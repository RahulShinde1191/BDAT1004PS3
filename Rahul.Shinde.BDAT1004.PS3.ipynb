{
 "cells": [
  {
   "cell_type": "markdown",
   "id": "9e01ab64",
   "metadata": {},
   "source": [
    "# Question 1"
   ]
  },
  {
   "cell_type": "code",
   "execution_count": 35,
   "id": "0906ec75",
   "metadata": {},
   "outputs": [],
   "source": [
    "import pandas as pd"
   ]
  },
  {
   "cell_type": "markdown",
   "id": "3141eca9",
   "metadata": {},
   "source": [
    "### Importing the dataset"
   ]
  },
  {
   "cell_type": "code",
   "execution_count": 36,
   "id": "dcf07a10",
   "metadata": {},
   "outputs": [],
   "source": [
    "url = 'https://raw.githubusercontent.com/justmarkham/DAT8/master/data/u.user'"
   ]
  },
  {
   "cell_type": "code",
   "execution_count": 37,
   "id": "35a5d23b",
   "metadata": {},
   "outputs": [],
   "source": [
    "import ssl\n",
    "ssl._create_default_https_context = ssl._create_unverified_context\n",
    "users = pd.read_csv(url, sep='|')"
   ]
  },
  {
   "cell_type": "code",
   "execution_count": 38,
   "id": "2d3e8bc6",
   "metadata": {},
   "outputs": [],
   "source": [
    "mean_age_by_occupation = users.groupby('occupation')['age'].mean()"
   ]
  },
  {
   "cell_type": "code",
   "execution_count": 39,
   "id": "8645f19d",
   "metadata": {},
   "outputs": [],
   "source": [
    "def gender_to_numeric(x):\n",
    "    if x == 'M':\n",
    "        return 1\n",
    "    if x == 'F':\n",
    "        return 0\n",
    "    \n",
    "users['gender_n'] = users['gender'].apply(gender_to_numeric)\n",
    "male_ratio_by_occupation = users.groupby('occupation')['gender_n'].mean().sort_values(ascending=False)"
   ]
  },
  {
   "cell_type": "code",
   "execution_count": 43,
   "id": "b61caddb",
   "metadata": {},
   "outputs": [],
   "source": [
    "min_max_age_by_occupation = users.groupby('occupation')['age'].agg(['min', 'max'])"
   ]
  },
  {
   "cell_type": "code",
   "execution_count": 44,
   "id": "e73b8ecb",
   "metadata": {},
   "outputs": [],
   "source": [
    "mean_age_by_occ_and_gender = users.groupby(['occupation', 'gender'])['age'].mean()"
   ]
  },
  {
   "cell_type": "code",
   "execution_count": 46,
   "id": "fb7ad642",
   "metadata": {},
   "outputs": [],
   "source": [
    "gender_counts_by_occupation = users.groupby(['occupation', 'gender'])['gender'].count()\n",
    "total_counts_by_occupation = users.groupby('occupation')['gender'].count()\n",
    "gender_percentage_by_occupation = (gender_counts_by_occupation / total_counts_by_occupation) * 100\n",
    "gender_percentage_by_occupation = gender_percentage_by_occupation.unstack()"
   ]
  },
  {
   "cell_type": "code",
   "execution_count": 54,
   "id": "18aa75e7",
   "metadata": {},
   "outputs": [
    {
     "name": "stdout",
     "output_type": "stream",
     "text": [
      "Mean age by occupation:\n",
      " occupation\n",
      "administrator    38.746835\n",
      "artist           31.392857\n",
      "doctor           43.571429\n",
      "educator         42.010526\n",
      "engineer         36.388060\n",
      "entertainment    29.222222\n",
      "executive        38.718750\n",
      "healthcare       41.562500\n",
      "homemaker        32.571429\n",
      "lawyer           36.750000\n",
      "librarian        40.000000\n",
      "marketing        37.615385\n",
      "none             26.555556\n",
      "other            34.523810\n",
      "programmer       33.121212\n",
      "retired          63.071429\n",
      "salesman         35.666667\n",
      "scientist        35.548387\n",
      "student          22.081633\n",
      "technician       33.148148\n",
      "writer           36.311111\n",
      "Name: age, dtype: float64\n"
     ]
    }
   ],
   "source": [
    "print('Mean age by occupation:\\n', mean_age_by_occupation)"
   ]
  },
  {
   "cell_type": "code",
   "execution_count": 50,
   "id": "a4f12d38",
   "metadata": {},
   "outputs": [
    {
     "name": "stdout",
     "output_type": "stream",
     "text": [
      "\n",
      "Male ratio by occupation (from highest to lowest):\n",
      " occupation\n",
      "doctor           1.000000\n",
      "engineer         0.970149\n",
      "technician       0.962963\n",
      "retired          0.928571\n",
      "programmer       0.909091\n",
      "executive        0.906250\n",
      "scientist        0.903226\n",
      "entertainment    0.888889\n",
      "lawyer           0.833333\n",
      "salesman         0.750000\n",
      "educator         0.726316\n",
      "student          0.693878\n",
      "other            0.657143\n",
      "marketing        0.615385\n",
      "writer           0.577778\n",
      "none             0.555556\n",
      "administrator    0.544304\n",
      "artist           0.535714\n",
      "librarian        0.431373\n",
      "healthcare       0.312500\n",
      "homemaker        0.142857\n",
      "Name: gender_n, dtype: float64\n"
     ]
    }
   ],
   "source": [
    "print('\\nMale ratio by occupation (from highest to lowest):\\n', male_ratio_by_occupation)\n"
   ]
  },
  {
   "cell_type": "code",
   "execution_count": 51,
   "id": "6bcf75b3",
   "metadata": {},
   "outputs": [
    {
     "name": "stdout",
     "output_type": "stream",
     "text": [
      "\n",
      "Minimum and maximum age by occupation:\n",
      "                min  max\n",
      "occupation             \n",
      "administrator   21   70\n",
      "artist          19   48\n",
      "doctor          28   64\n",
      "educator        23   63\n",
      "engineer        22   70\n",
      "entertainment   15   50\n",
      "executive       22   69\n",
      "healthcare      22   62\n",
      "homemaker       20   50\n",
      "lawyer          21   53\n",
      "librarian       23   69\n",
      "marketing       24   55\n",
      "none            11   55\n",
      "other           13   64\n",
      "programmer      20   63\n",
      "retired         51   73\n",
      "salesman        18   66\n",
      "scientist       23   55\n",
      "student          7   42\n",
      "technician      21   55\n",
      "writer          18   60\n"
     ]
    }
   ],
   "source": [
    "print('\\nMinimum and maximum age by occupation:\\n', min_max_age_by_occupation)"
   ]
  },
  {
   "cell_type": "code",
   "execution_count": 52,
   "id": "727d1553",
   "metadata": {},
   "outputs": [
    {
     "name": "stdout",
     "output_type": "stream",
     "text": [
      "\n",
      "Mean age by occupation and gender:\n",
      " occupation     gender\n",
      "administrator  F         40.638889\n",
      "               M         37.162791\n",
      "artist         F         30.307692\n",
      "               M         32.333333\n",
      "doctor         M         43.571429\n",
      "educator       F         39.115385\n",
      "               M         43.101449\n",
      "engineer       F         29.500000\n",
      "               M         36.600000\n",
      "entertainment  F         31.000000\n",
      "               M         29.000000\n",
      "executive      F         44.000000\n",
      "               M         38.172414\n",
      "healthcare     F         39.818182\n",
      "               M         45.400000\n",
      "homemaker      F         34.166667\n",
      "               M         23.000000\n",
      "lawyer         F         39.500000\n",
      "               M         36.200000\n",
      "librarian      F         40.000000\n",
      "               M         40.000000\n",
      "marketing      F         37.200000\n",
      "               M         37.875000\n",
      "none           F         36.500000\n",
      "               M         18.600000\n",
      "other          F         35.472222\n",
      "               M         34.028986\n",
      "programmer     F         32.166667\n",
      "               M         33.216667\n",
      "retired        F         70.000000\n",
      "               M         62.538462\n",
      "salesman       F         27.000000\n",
      "               M         38.555556\n",
      "scientist      F         28.333333\n",
      "               M         36.321429\n",
      "student        F         20.750000\n",
      "               M         22.669118\n",
      "technician     F         38.000000\n",
      "               M         32.961538\n",
      "writer         F         37.631579\n",
      "               M         35.346154\n",
      "Name: age, dtype: float64\n"
     ]
    }
   ],
   "source": [
    "print('\\nMean age by occupation and gender:\\n', mean_age_by_occ_and_gender)"
   ]
  },
  {
   "cell_type": "code",
   "execution_count": 53,
   "id": "d5067f1e",
   "metadata": {},
   "outputs": [
    {
     "name": "stdout",
     "output_type": "stream",
     "text": [
      "\n",
      "Gender percentage by occupation:\n",
      " gender                 F           M\n",
      "occupation                          \n",
      "administrator  45.569620   54.430380\n",
      "artist         46.428571   53.571429\n",
      "doctor               NaN  100.000000\n",
      "educator       27.368421   72.631579\n",
      "engineer        2.985075   97.014925\n",
      "entertainment  11.111111   88.888889\n",
      "executive       9.375000   90.625000\n",
      "healthcare     68.750000   31.250000\n",
      "homemaker      85.714286   14.285714\n",
      "lawyer         16.666667   83.333333\n",
      "librarian      56.862745   43.137255\n",
      "marketing      38.461538   61.538462\n",
      "none           44.444444   55.555556\n",
      "other          34.285714   65.714286\n",
      "programmer      9.090909   90.909091\n",
      "retired         7.142857   92.857143\n",
      "salesman       25.000000   75.000000\n",
      "scientist       9.677419   90.322581\n",
      "student        30.612245   69.387755\n",
      "technician      3.703704   96.296296\n",
      "writer         42.222222   57.777778\n"
     ]
    }
   ],
   "source": [
    "print('\\nGender percentage by occupation:\\n', gender_percentage_by_occupation)"
   ]
  },
  {
   "cell_type": "markdown",
   "id": "22f6d4bc",
   "metadata": {},
   "source": [
    "# Question 2"
   ]
  },
  {
   "cell_type": "code",
   "execution_count": 107,
   "id": "bb94c634",
   "metadata": {},
   "outputs": [],
   "source": [
    "import pandas as pd"
   ]
  },
  {
   "cell_type": "code",
   "execution_count": 108,
   "id": "689a5804",
   "metadata": {},
   "outputs": [],
   "source": [
    "url = 'https://raw.githubusercontent.com/guipsamora/pandas_exercises/master/02_Filtering_%26_Sorting/Euro12/Euro_2012_stats_TEAM.csv'\n",
    "euro12 = pd.read_csv(url)"
   ]
  },
  {
   "cell_type": "code",
   "execution_count": 123,
   "id": "db08f4e8",
   "metadata": {},
   "outputs": [
    {
     "name": "stdout",
     "output_type": "stream",
     "text": [
      "0      4\n",
      "1      4\n",
      "2      4\n",
      "3      5\n",
      "4      3\n",
      "5     10\n",
      "6      5\n",
      "7      6\n",
      "8      2\n",
      "9      2\n",
      "10     6\n",
      "11     1\n",
      "12     5\n",
      "13    12\n",
      "14     5\n",
      "15     2\n",
      "Name: Goals, dtype: int64\n"
     ]
    }
   ],
   "source": [
    "goals = euro12['Goals']\n",
    "print(euro12.Goals)"
   ]
  },
  {
   "cell_type": "code",
   "execution_count": 124,
   "id": "90b153f4",
   "metadata": {},
   "outputs": [
    {
     "name": "stdout",
     "output_type": "stream",
     "text": [
      "Number of teams participated in Euro2012: 16\n"
     ]
    }
   ],
   "source": [
    "num_teams = euro12.shape[0]\n",
    "print(\"Number of teams participated in Euro2012:\", len(euro12))"
   ]
  },
  {
   "cell_type": "code",
   "execution_count": 126,
   "id": "ae106c21",
   "metadata": {},
   "outputs": [
    {
     "name": "stdout",
     "output_type": "stream",
     "text": [
      "The number of columns in the dataset is: 35\n"
     ]
    }
   ],
   "source": [
    "num_cols = euro12.shape[1]\n",
    "print(\"The number of columns in the dataset is:\", euro12.shape[1])"
   ]
  },
  {
   "cell_type": "code",
   "execution_count": 127,
   "id": "30faf76d",
   "metadata": {},
   "outputs": [
    {
     "name": "stdout",
     "output_type": "stream",
     "text": [
      "                   Team  Yellow Cards  Red Cards\n",
      "0               Croatia             9          0\n",
      "1        Czech Republic             7          0\n",
      "2               Denmark             4          0\n",
      "3               England             5          0\n",
      "4                France             6          0\n",
      "5               Germany             4          0\n",
      "6                Greece             9          1\n",
      "7                 Italy            16          0\n",
      "8           Netherlands             5          0\n",
      "9                Poland             7          1\n",
      "10             Portugal            12          0\n",
      "11  Republic of Ireland             6          1\n",
      "12               Russia             6          0\n",
      "13                Spain            11          0\n",
      "14               Sweden             7          0\n",
      "15              Ukraine             5          0\n"
     ]
    }
   ],
   "source": [
    "discipline = euro12[['Team', 'Yellow Cards', 'Red Cards']]\n",
    "discipline = euro12[['Team', 'Yellow Cards', 'Red Cards']]\n",
    "print(discipline)"
   ]
  },
  {
   "cell_type": "code",
   "execution_count": 128,
   "id": "1539da22",
   "metadata": {},
   "outputs": [
    {
     "name": "stdout",
     "output_type": "stream",
     "text": [
      "                   Team  Yellow Cards  Red Cards\n",
      "6                Greece             9          1\n",
      "9                Poland             7          1\n",
      "11  Republic of Ireland             6          1\n",
      "7                 Italy            16          0\n",
      "10             Portugal            12          0\n",
      "13                Spain            11          0\n",
      "0               Croatia             9          0\n",
      "1        Czech Republic             7          0\n",
      "14               Sweden             7          0\n",
      "4                France             6          0\n",
      "12               Russia             6          0\n",
      "3               England             5          0\n",
      "8           Netherlands             5          0\n",
      "15              Ukraine             5          0\n",
      "2               Denmark             4          0\n",
      "5               Germany             4          0\n"
     ]
    }
   ],
   "source": [
    "discipline_sorted = discipline.sort_values(['Red Cards', 'Yellow Cards'], ascending=[False, False])\n",
    "print(discipline_sorted)"
   ]
  },
  {
   "cell_type": "code",
   "execution_count": 129,
   "id": "507906e5",
   "metadata": {},
   "outputs": [
    {
     "name": "stdout",
     "output_type": "stream",
     "text": [
      "7.4375\n"
     ]
    }
   ],
   "source": [
    "mean_yellow_cards = discipline['Yellow Cards'].mean()\n",
    "print(mean_yellow_cards)"
   ]
  },
  {
   "cell_type": "code",
   "execution_count": 130,
   "id": "d1017ce8",
   "metadata": {},
   "outputs": [
    {
     "name": "stdout",
     "output_type": "stream",
     "text": [
      "       Team  Goals  Shots on target  Shots off target Shooting Accuracy  \\\n",
      "5   Germany     10               32                32             47.8%   \n",
      "13    Spain     12               42                33             55.9%   \n",
      "\n",
      "   % Goals-to-shots  Total shots (inc. Blocked)  Hit Woodwork  Penalty goals  \\\n",
      "5             15.6%                          80             2              1   \n",
      "13            16.0%                         100             0              1   \n",
      "\n",
      "    Penalties not scored  ...  Saves made  Saves-to-shots ratio  Fouls Won  \\\n",
      "5                      0  ...          10                 62.6%         63   \n",
      "13                     0  ...          15                 93.8%        102   \n",
      "\n",
      "   Fouls Conceded  Offsides  Yellow Cards  Red Cards  Subs on  Subs off  \\\n",
      "5              49        12             4          0       15        15   \n",
      "13             83        19            11          0       17        17   \n",
      "\n",
      "    Players Used  \n",
      "5             17  \n",
      "13            18  \n",
      "\n",
      "[2 rows x 35 columns]\n"
     ]
    }
   ],
   "source": [
    "high_scoring_teams = euro12[euro12['Goals'] > 6]\n",
    "print(high_scoring_teams)"
   ]
  },
  {
   "cell_type": "code",
   "execution_count": 131,
   "id": "aa71e238",
   "metadata": {},
   "outputs": [
    {
     "name": "stdout",
     "output_type": "stream",
     "text": [
      "      Team  Goals  Shots on target  Shots off target Shooting Accuracy  \\\n",
      "5  Germany     10               32                32             47.8%   \n",
      "6   Greece      5                8                18             30.7%   \n",
      "\n",
      "  % Goals-to-shots  Total shots (inc. Blocked)  Hit Woodwork  Penalty goals  \\\n",
      "5            15.6%                          80             2              1   \n",
      "6            19.2%                          32             1              1   \n",
      "\n",
      "   Penalties not scored  ...  Saves made  Saves-to-shots ratio  Fouls Won  \\\n",
      "5                     0  ...          10                 62.6%         63   \n",
      "6                     1  ...          13                 65.1%         67   \n",
      "\n",
      "  Fouls Conceded  Offsides  Yellow Cards  Red Cards  Subs on  Subs off  \\\n",
      "5             49        12             4          0       15        15   \n",
      "6             48        12             9          1       12        12   \n",
      "\n",
      "   Players Used  \n",
      "5            17  \n",
      "6            20  \n",
      "\n",
      "[2 rows x 35 columns]\n"
     ]
    }
   ],
   "source": [
    "G_teams = euro12[euro12['Team'].str.startswith('G')]\n",
    "print(G_teams)"
   ]
  },
  {
   "cell_type": "code",
   "execution_count": 132,
   "id": "5d19ad3c",
   "metadata": {},
   "outputs": [
    {
     "name": "stdout",
     "output_type": "stream",
     "text": [
      "                   Team  Goals  Shots on target  Shots off target  \\\n",
      "0               Croatia      4               13                12   \n",
      "1        Czech Republic      4               13                18   \n",
      "2               Denmark      4               10                10   \n",
      "3               England      5               11                18   \n",
      "4                France      3               22                24   \n",
      "5               Germany     10               32                32   \n",
      "6                Greece      5                8                18   \n",
      "7                 Italy      6               34                45   \n",
      "8           Netherlands      2               12                36   \n",
      "9                Poland      2               15                23   \n",
      "10             Portugal      6               22                42   \n",
      "11  Republic of Ireland      1                7                12   \n",
      "12               Russia      5                9                31   \n",
      "13                Spain     12               42                33   \n",
      "14               Sweden      5               17                19   \n",
      "15              Ukraine      2                7                26   \n",
      "\n",
      "   Shooting Accuracy % Goals-to-shots  Total shots (inc. Blocked)  \n",
      "0              51.9%            16.0%                          32  \n",
      "1              41.9%            12.9%                          39  \n",
      "2              50.0%            20.0%                          27  \n",
      "3              50.0%            17.2%                          40  \n",
      "4              37.9%             6.5%                          65  \n",
      "5              47.8%            15.6%                          80  \n",
      "6              30.7%            19.2%                          32  \n",
      "7              43.0%             7.5%                         110  \n",
      "8              25.0%             4.1%                          60  \n",
      "9              39.4%             5.2%                          48  \n",
      "10             34.3%             9.3%                          82  \n",
      "11             36.8%             5.2%                          28  \n",
      "12             22.5%            12.5%                          59  \n",
      "13             55.9%            16.0%                         100  \n",
      "14             47.2%            13.8%                          39  \n",
      "15             21.2%             6.0%                          38  \n"
     ]
    }
   ],
   "source": [
    "first_7_cols = euro12.iloc[:, :7]\n",
    "print(first_7_cols)"
   ]
  },
  {
   "cell_type": "code",
   "execution_count": 133,
   "id": "5ebff4f2",
   "metadata": {},
   "outputs": [
    {
     "name": "stdout",
     "output_type": "stream",
     "text": [
      "                   Team  Goals  Shots on target  Shots off target  \\\n",
      "0               Croatia      4               13                12   \n",
      "1        Czech Republic      4               13                18   \n",
      "2               Denmark      4               10                10   \n",
      "3               England      5               11                18   \n",
      "4                France      3               22                24   \n",
      "5               Germany     10               32                32   \n",
      "6                Greece      5                8                18   \n",
      "7                 Italy      6               34                45   \n",
      "8           Netherlands      2               12                36   \n",
      "9                Poland      2               15                23   \n",
      "10             Portugal      6               22                42   \n",
      "11  Republic of Ireland      1                7                12   \n",
      "12               Russia      5                9                31   \n",
      "13                Spain     12               42                33   \n",
      "14               Sweden      5               17                19   \n",
      "15              Ukraine      2                7                26   \n",
      "\n",
      "   Shooting Accuracy % Goals-to-shots  Total shots (inc. Blocked)  \\\n",
      "0              51.9%            16.0%                          32   \n",
      "1              41.9%            12.9%                          39   \n",
      "2              50.0%            20.0%                          27   \n",
      "3              50.0%            17.2%                          40   \n",
      "4              37.9%             6.5%                          65   \n",
      "5              47.8%            15.6%                          80   \n",
      "6              30.7%            19.2%                          32   \n",
      "7              43.0%             7.5%                         110   \n",
      "8              25.0%             4.1%                          60   \n",
      "9              39.4%             5.2%                          48   \n",
      "10             34.3%             9.3%                          82   \n",
      "11             36.8%             5.2%                          28   \n",
      "12             22.5%            12.5%                          59   \n",
      "13             55.9%            16.0%                         100   \n",
      "14             47.2%            13.8%                          39   \n",
      "15             21.2%             6.0%                          38   \n",
      "\n",
      "    Hit Woodwork  Penalty goals  Penalties not scored  ...  Clean Sheets  \\\n",
      "0              0              0                     0  ...             0   \n",
      "1              0              0                     0  ...             1   \n",
      "2              1              0                     0  ...             1   \n",
      "3              0              0                     0  ...             2   \n",
      "4              1              0                     0  ...             1   \n",
      "5              2              1                     0  ...             1   \n",
      "6              1              1                     1  ...             1   \n",
      "7              2              0                     0  ...             2   \n",
      "8              2              0                     0  ...             0   \n",
      "9              0              0                     0  ...             0   \n",
      "10             6              0                     0  ...             2   \n",
      "11             0              0                     0  ...             0   \n",
      "12             2              0                     0  ...             0   \n",
      "13             0              1                     0  ...             5   \n",
      "14             3              0                     0  ...             1   \n",
      "15             0              0                     0  ...             0   \n",
      "\n",
      "    Blocks  Goals conceded Saves made  Saves-to-shots ratio  Fouls Won  \\\n",
      "0       10               3         13                 81.3%         41   \n",
      "1       10               6          9                 60.1%         53   \n",
      "2       10               5         10                 66.7%         25   \n",
      "3       29               3         22                 88.1%         43   \n",
      "4        7               5          6                 54.6%         36   \n",
      "5       11               6         10                 62.6%         63   \n",
      "6       23               7         13                 65.1%         67   \n",
      "7       18               7         20                 74.1%        101   \n",
      "8        9               5         12                 70.6%         35   \n",
      "9        8               3          6                 66.7%         48   \n",
      "10      11               4         10                 71.5%         73   \n",
      "11      23               9         17                 65.4%         43   \n",
      "12       8               3         10                 77.0%         34   \n",
      "13       8               1         15                 93.8%        102   \n",
      "14      12               5          8                 61.6%         35   \n",
      "15       4               4         13                 76.5%         48   \n",
      "\n",
      "    Fouls Conceded  Offsides  Yellow Cards  Red Cards  \n",
      "0               62         2             9          0  \n",
      "1               73         8             7          0  \n",
      "2               38         8             4          0  \n",
      "3               45         6             5          0  \n",
      "4               51         5             6          0  \n",
      "5               49        12             4          0  \n",
      "6               48        12             9          1  \n",
      "7               89        16            16          0  \n",
      "8               30         3             5          0  \n",
      "9               56         3             7          1  \n",
      "10              90        10            12          0  \n",
      "11              51        11             6          1  \n",
      "12              43         4             6          0  \n",
      "13              83        19            11          0  \n",
      "14              51         7             7          0  \n",
      "15              31         4             5          0  \n",
      "\n",
      "[16 rows x 32 columns]\n"
     ]
    }
   ],
   "source": [
    "all_cols_except_last_3 = euro12.iloc[:, :-3]\n",
    "print(all_cols_except_last_3)"
   ]
  },
  {
   "cell_type": "code",
   "execution_count": 134,
   "id": "8355e3fb",
   "metadata": {},
   "outputs": [
    {
     "name": "stdout",
     "output_type": "stream",
     "text": [
      "       Team Shooting Accuracy\n",
      "3   England             50.0%\n",
      "7     Italy             43.0%\n",
      "12   Russia             22.5%\n"
     ]
    }
   ],
   "source": [
    "shooting_accuracy = euro12.loc[euro12['Team'].isin(['England', 'Italy', 'Russia']), ['Team', 'Shooting Accuracy']]\n",
    "print(shooting_accuracy)"
   ]
  },
  {
   "cell_type": "markdown",
   "id": "e95238f4",
   "metadata": {},
   "source": [
    "# Question 3"
   ]
  },
  {
   "cell_type": "code",
   "execution_count": 157,
   "id": "fd293512",
   "metadata": {},
   "outputs": [],
   "source": [
    "import pandas as pd\n",
    "import numpy as np"
   ]
  },
  {
   "cell_type": "code",
   "execution_count": 158,
   "id": "2050919a",
   "metadata": {},
   "outputs": [],
   "source": [
    "series1 = pd.Series(np.random.randint(1, 5, 100))\n",
    "series2 = pd.Series(np.random.randint(1, 4, 100))\n",
    "series3 = pd.Series(np.random.randint(10000, 30001, 100))"
   ]
  },
  {
   "cell_type": "code",
   "execution_count": 165,
   "id": "36b4f595",
   "metadata": {},
   "outputs": [
    {
     "name": "stdout",
     "output_type": "stream",
     "text": [
      "    0  1      2\n",
      "0   4  1  11237\n",
      "1   2  3  12296\n",
      "2   2  2  23936\n",
      "3   3  3  23876\n",
      "4   3  2  21872\n",
      ".. .. ..    ...\n",
      "95  3  1  11664\n",
      "96  4  1  14620\n",
      "97  3  3  18184\n",
      "98  4  2  19285\n",
      "99  3  1  26349\n",
      "\n",
      "[100 rows x 3 columns]\n"
     ]
    }
   ],
   "source": [
    "housing = pd.concat([series1, series2, series3], axis=1)\n",
    "print(housing)"
   ]
  },
  {
   "cell_type": "code",
   "execution_count": 166,
   "id": "d7041ba2",
   "metadata": {},
   "outputs": [
    {
     "name": "stdout",
     "output_type": "stream",
     "text": [
      "Index(['bedrs', 'bathrs', 'price_sqr_meter'], dtype='object')\n"
     ]
    }
   ],
   "source": [
    "housing.columns = ['bedrs', 'bathrs', 'price_sqr_meter']\n",
    "print(housing.columns)"
   ]
  },
  {
   "cell_type": "code",
   "execution_count": 167,
   "id": "dc3ca291",
   "metadata": {},
   "outputs": [
    {
     "name": "stdout",
     "output_type": "stream",
     "text": [
      "0         4\n",
      "1         2\n",
      "2         2\n",
      "3         3\n",
      "4         3\n",
      "      ...  \n",
      "95    11664\n",
      "96    14620\n",
      "97    18184\n",
      "98    19285\n",
      "99    26349\n",
      "Length: 300, dtype: int64\n"
     ]
    }
   ],
   "source": [
    "bigcolumn = pd.concat([series1, series2, series3], axis=0)\n",
    "print(bigcolumn)"
   ]
  },
  {
   "cell_type": "code",
   "execution_count": 162,
   "id": "91840540",
   "metadata": {},
   "outputs": [
    {
     "name": "stdout",
     "output_type": "stream",
     "text": [
      "True\n"
     ]
    }
   ],
   "source": [
    "print(bigcolumn.index.max() == 99)"
   ]
  },
  {
   "cell_type": "code",
   "execution_count": 164,
   "id": "18c98a13",
   "metadata": {},
   "outputs": [
    {
     "name": "stdout",
     "output_type": "stream",
     "text": [
      "    0  1      2\n",
      "0   4  1  11237\n",
      "1   2  3  12296\n",
      "2   2  2  23936\n",
      "3   3  3  23876\n",
      "4   3  2  21872\n",
      ".. .. ..    ...\n",
      "95  3  1  11664\n",
      "96  4  1  14620\n",
      "97  3  3  18184\n",
      "98  4  2  19285\n",
      "99  3  1  26349\n",
      "\n",
      "[100 rows x 3 columns]\n"
     ]
    }
   ],
   "source": [
    "df = pd.concat([series1, series2, series3], axis=1).reset_index(drop=True)\n",
    "print(df)"
   ]
  },
  {
   "cell_type": "markdown",
   "id": "2928bf49",
   "metadata": {},
   "source": [
    "# Question 4"
   ]
  },
  {
   "cell_type": "code",
   "execution_count": 51,
   "id": "4cae2f95",
   "metadata": {},
   "outputs": [],
   "source": [
    "import pandas as pd\n",
    "import numpy as np\n"
   ]
  },
  {
   "cell_type": "code",
   "execution_count": 52,
   "id": "dcf38c3d",
   "metadata": {},
   "outputs": [],
   "source": [
    "data = pd.read_csv('wind.txt', sep='\\s+', parse_dates=[[0,1,2]])\n"
   ]
  },
  {
   "cell_type": "code",
   "execution_count": 53,
   "id": "66232b5c",
   "metadata": {},
   "outputs": [],
   "source": [
    "data = pd.read_csv('wind.txt', sep='\\s+', parse_dates=[[0,1,2]])\n",
    "data.set_index('Yr_Mo_Dy', inplace=True)\n"
   ]
  },
  {
   "cell_type": "code",
   "execution_count": 54,
   "id": "5a44c19f",
   "metadata": {},
   "outputs": [],
   "source": [
    "def fix_year(x):\n",
    "    year = x.year - 100 if x.year > 1989 else x.year\n",
    "    return pd.to_datetime(year*10000+x.month*100+x.day, format='%Y%m%d')\n",
    "\n",
    "data.index = data.index.map(fix_year)\n"
   ]
  },
  {
   "cell_type": "code",
   "execution_count": 55,
   "id": "79eb9742",
   "metadata": {},
   "outputs": [],
   "source": [
    "missing_values_count = data.isnull().sum()\n"
   ]
  },
  {
   "cell_type": "code",
   "execution_count": 56,
   "id": "d2894f0d",
   "metadata": {},
   "outputs": [],
   "source": [
    "non_missing_values_count = data.notnull().sum().sum()\n"
   ]
  },
  {
   "cell_type": "code",
   "execution_count": 57,
   "id": "5282d5de",
   "metadata": {},
   "outputs": [],
   "source": [
    "mean_windspeed = data.mean().mean()\n"
   ]
  },
  {
   "cell_type": "code",
   "execution_count": 58,
   "id": "6cb1a301",
   "metadata": {},
   "outputs": [],
   "source": [
    "loc_stats = pd.DataFrame()\n",
    "loc_stats['min'] = data.min()\n",
    "loc_stats['max'] = data.max()\n",
    "loc_stats['mean'] = data.mean()\n",
    "loc_stats['std'] = data.std()\n"
   ]
  },
  {
   "cell_type": "code",
   "execution_count": 59,
   "id": "a2c7e157",
   "metadata": {},
   "outputs": [],
   "source": [
    "day_stats = pd.DataFrame()\n",
    "day_stats['min'] = data.min(axis=1)\n",
    "day_stats['max'] = data.max(axis=1)\n",
    "day_stats['mean'] = data.mean(axis=1)\n",
    "day_stats['std'] = data.std(axis=1)\n"
   ]
  },
  {
   "cell_type": "code",
   "execution_count": 60,
   "id": "6085b6a4",
   "metadata": {},
   "outputs": [
    {
     "data": {
      "text/html": [
       "<div>\n",
       "<style scoped>\n",
       "    .dataframe tbody tr th:only-of-type {\n",
       "        vertical-align: middle;\n",
       "    }\n",
       "\n",
       "    .dataframe tbody tr th {\n",
       "        vertical-align: top;\n",
       "    }\n",
       "\n",
       "    .dataframe thead th {\n",
       "        text-align: right;\n",
       "    }\n",
       "</style>\n",
       "<table border=\"1\" class=\"dataframe\">\n",
       "  <thead>\n",
       "    <tr style=\"text-align: right;\">\n",
       "      <th></th>\n",
       "      <th>RPT</th>\n",
       "      <th>VAL</th>\n",
       "      <th>ROS</th>\n",
       "      <th>KIL</th>\n",
       "      <th>SHA</th>\n",
       "      <th>BIR</th>\n",
       "      <th>DUB</th>\n",
       "      <th>CLA</th>\n",
       "      <th>MUL</th>\n",
       "      <th>CLO</th>\n",
       "      <th>BEL</th>\n",
       "      <th>MAL</th>\n",
       "    </tr>\n",
       "    <tr>\n",
       "      <th>Yr_Mo_Dy</th>\n",
       "      <th></th>\n",
       "      <th></th>\n",
       "      <th></th>\n",
       "      <th></th>\n",
       "      <th></th>\n",
       "      <th></th>\n",
       "      <th></th>\n",
       "      <th></th>\n",
       "      <th></th>\n",
       "      <th></th>\n",
       "      <th></th>\n",
       "      <th></th>\n",
       "    </tr>\n",
       "  </thead>\n",
       "  <tbody>\n",
       "    <tr>\n",
       "      <th>1961</th>\n",
       "      <td>14.841333</td>\n",
       "      <td>11.988333</td>\n",
       "      <td>13.431613</td>\n",
       "      <td>7.736774</td>\n",
       "      <td>11.072759</td>\n",
       "      <td>8.588065</td>\n",
       "      <td>11.184839</td>\n",
       "      <td>9.245333</td>\n",
       "      <td>9.085806</td>\n",
       "      <td>10.107419</td>\n",
       "      <td>13.880968</td>\n",
       "      <td>14.703226</td>\n",
       "    </tr>\n",
       "    <tr>\n",
       "      <th>1962</th>\n",
       "      <td>14.783871</td>\n",
       "      <td>13.160323</td>\n",
       "      <td>12.591935</td>\n",
       "      <td>7.538065</td>\n",
       "      <td>11.779677</td>\n",
       "      <td>8.720000</td>\n",
       "      <td>14.211935</td>\n",
       "      <td>9.600000</td>\n",
       "      <td>9.670000</td>\n",
       "      <td>11.498710</td>\n",
       "      <td>16.369355</td>\n",
       "      <td>15.661613</td>\n",
       "    </tr>\n",
       "    <tr>\n",
       "      <th>1963</th>\n",
       "      <td>14.868387</td>\n",
       "      <td>11.112903</td>\n",
       "      <td>15.121613</td>\n",
       "      <td>6.635806</td>\n",
       "      <td>11.080645</td>\n",
       "      <td>7.835484</td>\n",
       "      <td>12.797419</td>\n",
       "      <td>9.844839</td>\n",
       "      <td>7.841613</td>\n",
       "      <td>9.390000</td>\n",
       "      <td>11.428710</td>\n",
       "      <td>18.822258</td>\n",
       "    </tr>\n",
       "    <tr>\n",
       "      <th>1964</th>\n",
       "      <td>12.661290</td>\n",
       "      <td>11.818387</td>\n",
       "      <td>11.741290</td>\n",
       "      <td>6.953548</td>\n",
       "      <td>11.400645</td>\n",
       "      <td>6.865806</td>\n",
       "      <td>9.592903</td>\n",
       "      <td>9.687419</td>\n",
       "      <td>6.947742</td>\n",
       "      <td>9.676774</td>\n",
       "      <td>15.067419</td>\n",
       "      <td>14.145484</td>\n",
       "    </tr>\n",
       "    <tr>\n",
       "      <th>1965</th>\n",
       "      <td>15.741613</td>\n",
       "      <td>15.546774</td>\n",
       "      <td>15.274194</td>\n",
       "      <td>8.258387</td>\n",
       "      <td>13.588065</td>\n",
       "      <td>9.251290</td>\n",
       "      <td>13.850968</td>\n",
       "      <td>11.260000</td>\n",
       "      <td>9.899355</td>\n",
       "      <td>11.706129</td>\n",
       "      <td>16.196129</td>\n",
       "      <td>17.888710</td>\n",
       "    </tr>\n",
       "    <tr>\n",
       "      <th>1966</th>\n",
       "      <td>15.834839</td>\n",
       "      <td>13.283226</td>\n",
       "      <td>15.136452</td>\n",
       "      <td>8.659355</td>\n",
       "      <td>12.968065</td>\n",
       "      <td>9.163548</td>\n",
       "      <td>12.150000</td>\n",
       "      <td>10.475806</td>\n",
       "      <td>8.750645</td>\n",
       "      <td>10.739677</td>\n",
       "      <td>14.074516</td>\n",
       "      <td>15.554194</td>\n",
       "    </tr>\n",
       "    <tr>\n",
       "      <th>1967</th>\n",
       "      <td>13.736129</td>\n",
       "      <td>11.470968</td>\n",
       "      <td>11.537419</td>\n",
       "      <td>6.928065</td>\n",
       "      <td>10.833548</td>\n",
       "      <td>6.730323</td>\n",
       "      <td>9.787419</td>\n",
       "      <td>7.474839</td>\n",
       "      <td>7.627097</td>\n",
       "      <td>10.169032</td>\n",
       "      <td>13.457742</td>\n",
       "      <td>17.124516</td>\n",
       "    </tr>\n",
       "    <tr>\n",
       "      <th>1968</th>\n",
       "      <td>14.733226</td>\n",
       "      <td>12.829032</td>\n",
       "      <td>12.294194</td>\n",
       "      <td>7.849032</td>\n",
       "      <td>12.262581</td>\n",
       "      <td>7.133226</td>\n",
       "      <td>12.395806</td>\n",
       "      <td>9.225806</td>\n",
       "      <td>9.415484</td>\n",
       "      <td>9.255161</td>\n",
       "      <td>14.213871</td>\n",
       "      <td>19.095484</td>\n",
       "    </tr>\n",
       "    <tr>\n",
       "      <th>1969</th>\n",
       "      <td>12.824839</td>\n",
       "      <td>12.113871</td>\n",
       "      <td>11.403871</td>\n",
       "      <td>6.708710</td>\n",
       "      <td>10.557097</td>\n",
       "      <td>5.926452</td>\n",
       "      <td>9.882903</td>\n",
       "      <td>8.375161</td>\n",
       "      <td>8.378065</td>\n",
       "      <td>9.515484</td>\n",
       "      <td>13.410000</td>\n",
       "      <td>16.957742</td>\n",
       "    </tr>\n",
       "    <tr>\n",
       "      <th>1970</th>\n",
       "      <td>13.152581</td>\n",
       "      <td>11.731935</td>\n",
       "      <td>13.083871</td>\n",
       "      <td>5.810968</td>\n",
       "      <td>9.507742</td>\n",
       "      <td>8.040323</td>\n",
       "      <td>9.843226</td>\n",
       "      <td>8.834194</td>\n",
       "      <td>8.407097</td>\n",
       "      <td>7.626452</td>\n",
       "      <td>12.403871</td>\n",
       "      <td>17.192903</td>\n",
       "    </tr>\n",
       "    <tr>\n",
       "      <th>1971</th>\n",
       "      <td>15.098065</td>\n",
       "      <td>13.398387</td>\n",
       "      <td>13.080000</td>\n",
       "      <td>6.364194</td>\n",
       "      <td>11.342258</td>\n",
       "      <td>7.759677</td>\n",
       "      <td>10.297419</td>\n",
       "      <td>8.350000</td>\n",
       "      <td>8.979355</td>\n",
       "      <td>8.666774</td>\n",
       "      <td>14.392581</td>\n",
       "      <td>16.360000</td>\n",
       "    </tr>\n",
       "    <tr>\n",
       "      <th>1972</th>\n",
       "      <td>14.383871</td>\n",
       "      <td>11.848387</td>\n",
       "      <td>13.732258</td>\n",
       "      <td>5.925161</td>\n",
       "      <td>10.823226</td>\n",
       "      <td>7.291290</td>\n",
       "      <td>11.287097</td>\n",
       "      <td>6.733548</td>\n",
       "      <td>9.109355</td>\n",
       "      <td>8.728387</td>\n",
       "      <td>12.170645</td>\n",
       "      <td>17.598710</td>\n",
       "    </tr>\n",
       "    <tr>\n",
       "      <th>1973</th>\n",
       "      <td>13.177742</td>\n",
       "      <td>12.202903</td>\n",
       "      <td>10.860968</td>\n",
       "      <td>5.454516</td>\n",
       "      <td>9.327419</td>\n",
       "      <td>7.419677</td>\n",
       "      <td>10.738710</td>\n",
       "      <td>7.880000</td>\n",
       "      <td>8.651290</td>\n",
       "      <td>7.596774</td>\n",
       "      <td>12.076452</td>\n",
       "      <td>14.684516</td>\n",
       "    </tr>\n",
       "    <tr>\n",
       "      <th>1974</th>\n",
       "      <td>20.990968</td>\n",
       "      <td>17.623548</td>\n",
       "      <td>17.514839</td>\n",
       "      <td>10.549355</td>\n",
       "      <td>15.858387</td>\n",
       "      <td>11.298387</td>\n",
       "      <td>14.112258</td>\n",
       "      <td>12.786452</td>\n",
       "      <td>14.691935</td>\n",
       "      <td>15.092903</td>\n",
       "      <td>19.929677</td>\n",
       "      <td>24.573226</td>\n",
       "    </tr>\n",
       "    <tr>\n",
       "      <th>1975</th>\n",
       "      <td>17.100323</td>\n",
       "      <td>15.812903</td>\n",
       "      <td>13.942581</td>\n",
       "      <td>8.081935</td>\n",
       "      <td>13.934194</td>\n",
       "      <td>8.437742</td>\n",
       "      <td>13.179677</td>\n",
       "      <td>12.601935</td>\n",
       "      <td>13.000645</td>\n",
       "      <td>11.064839</td>\n",
       "      <td>19.266774</td>\n",
       "      <td>21.713226</td>\n",
       "    </tr>\n",
       "    <tr>\n",
       "      <th>1976</th>\n",
       "      <td>15.626129</td>\n",
       "      <td>14.240323</td>\n",
       "      <td>13.867097</td>\n",
       "      <td>7.789355</td>\n",
       "      <td>13.081935</td>\n",
       "      <td>9.003548</td>\n",
       "      <td>15.121290</td>\n",
       "      <td>11.414839</td>\n",
       "      <td>13.493226</td>\n",
       "      <td>11.553871</td>\n",
       "      <td>16.337097</td>\n",
       "      <td>22.896129</td>\n",
       "    </tr>\n",
       "    <tr>\n",
       "      <th>1977</th>\n",
       "      <td>13.404516</td>\n",
       "      <td>10.377742</td>\n",
       "      <td>12.764839</td>\n",
       "      <td>5.884516</td>\n",
       "      <td>9.159677</td>\n",
       "      <td>8.005161</td>\n",
       "      <td>10.107419</td>\n",
       "      <td>7.211613</td>\n",
       "      <td>8.280000</td>\n",
       "      <td>9.328387</td>\n",
       "      <td>12.131935</td>\n",
       "      <td>18.830000</td>\n",
       "    </tr>\n",
       "    <tr>\n",
       "      <th>1978</th>\n",
       "      <td>14.291935</td>\n",
       "      <td>11.872258</td>\n",
       "      <td>12.014194</td>\n",
       "      <td>6.463226</td>\n",
       "      <td>11.402903</td>\n",
       "      <td>7.517097</td>\n",
       "      <td>12.207097</td>\n",
       "      <td>10.206452</td>\n",
       "      <td>9.549032</td>\n",
       "      <td>9.247419</td>\n",
       "      <td>15.101613</td>\n",
       "      <td>20.715806</td>\n",
       "    </tr>\n",
       "  </tbody>\n",
       "</table>\n",
       "</div>"
      ],
      "text/plain": [
       "                RPT        VAL        ROS        KIL        SHA        BIR  \\\n",
       "Yr_Mo_Dy                                                                     \n",
       "1961      14.841333  11.988333  13.431613   7.736774  11.072759   8.588065   \n",
       "1962      14.783871  13.160323  12.591935   7.538065  11.779677   8.720000   \n",
       "1963      14.868387  11.112903  15.121613   6.635806  11.080645   7.835484   \n",
       "1964      12.661290  11.818387  11.741290   6.953548  11.400645   6.865806   \n",
       "1965      15.741613  15.546774  15.274194   8.258387  13.588065   9.251290   \n",
       "1966      15.834839  13.283226  15.136452   8.659355  12.968065   9.163548   \n",
       "1967      13.736129  11.470968  11.537419   6.928065  10.833548   6.730323   \n",
       "1968      14.733226  12.829032  12.294194   7.849032  12.262581   7.133226   \n",
       "1969      12.824839  12.113871  11.403871   6.708710  10.557097   5.926452   \n",
       "1970      13.152581  11.731935  13.083871   5.810968   9.507742   8.040323   \n",
       "1971      15.098065  13.398387  13.080000   6.364194  11.342258   7.759677   \n",
       "1972      14.383871  11.848387  13.732258   5.925161  10.823226   7.291290   \n",
       "1973      13.177742  12.202903  10.860968   5.454516   9.327419   7.419677   \n",
       "1974      20.990968  17.623548  17.514839  10.549355  15.858387  11.298387   \n",
       "1975      17.100323  15.812903  13.942581   8.081935  13.934194   8.437742   \n",
       "1976      15.626129  14.240323  13.867097   7.789355  13.081935   9.003548   \n",
       "1977      13.404516  10.377742  12.764839   5.884516   9.159677   8.005161   \n",
       "1978      14.291935  11.872258  12.014194   6.463226  11.402903   7.517097   \n",
       "\n",
       "                DUB        CLA        MUL        CLO        BEL        MAL  \n",
       "Yr_Mo_Dy                                                                    \n",
       "1961      11.184839   9.245333   9.085806  10.107419  13.880968  14.703226  \n",
       "1962      14.211935   9.600000   9.670000  11.498710  16.369355  15.661613  \n",
       "1963      12.797419   9.844839   7.841613   9.390000  11.428710  18.822258  \n",
       "1964       9.592903   9.687419   6.947742   9.676774  15.067419  14.145484  \n",
       "1965      13.850968  11.260000   9.899355  11.706129  16.196129  17.888710  \n",
       "1966      12.150000  10.475806   8.750645  10.739677  14.074516  15.554194  \n",
       "1967       9.787419   7.474839   7.627097  10.169032  13.457742  17.124516  \n",
       "1968      12.395806   9.225806   9.415484   9.255161  14.213871  19.095484  \n",
       "1969       9.882903   8.375161   8.378065   9.515484  13.410000  16.957742  \n",
       "1970       9.843226   8.834194   8.407097   7.626452  12.403871  17.192903  \n",
       "1971      10.297419   8.350000   8.979355   8.666774  14.392581  16.360000  \n",
       "1972      11.287097   6.733548   9.109355   8.728387  12.170645  17.598710  \n",
       "1973      10.738710   7.880000   8.651290   7.596774  12.076452  14.684516  \n",
       "1974      14.112258  12.786452  14.691935  15.092903  19.929677  24.573226  \n",
       "1975      13.179677  12.601935  13.000645  11.064839  19.266774  21.713226  \n",
       "1976      15.121290  11.414839  13.493226  11.553871  16.337097  22.896129  \n",
       "1977      10.107419   7.211613   8.280000   9.328387  12.131935  18.830000  \n",
       "1978      12.207097  10.206452   9.549032   9.247419  15.101613  20.715806  "
      ]
     },
     "execution_count": 60,
     "metadata": {},
     "output_type": "execute_result"
    }
   ],
   "source": [
    "january_data = data[data.index.month == 1]\n",
    "january_data.groupby(january_data.index.year).mean()\n"
   ]
  },
  {
   "cell_type": "code",
   "execution_count": 61,
   "id": "bebe123a",
   "metadata": {},
   "outputs": [
    {
     "data": {
      "text/html": [
       "<div>\n",
       "<style scoped>\n",
       "    .dataframe tbody tr th:only-of-type {\n",
       "        vertical-align: middle;\n",
       "    }\n",
       "\n",
       "    .dataframe tbody tr th {\n",
       "        vertical-align: top;\n",
       "    }\n",
       "\n",
       "    .dataframe thead th {\n",
       "        text-align: right;\n",
       "    }\n",
       "</style>\n",
       "<table border=\"1\" class=\"dataframe\">\n",
       "  <thead>\n",
       "    <tr style=\"text-align: right;\">\n",
       "      <th></th>\n",
       "      <th>RPT</th>\n",
       "      <th>VAL</th>\n",
       "      <th>ROS</th>\n",
       "      <th>KIL</th>\n",
       "      <th>SHA</th>\n",
       "      <th>BIR</th>\n",
       "      <th>DUB</th>\n",
       "      <th>CLA</th>\n",
       "      <th>MUL</th>\n",
       "      <th>CLO</th>\n",
       "      <th>BEL</th>\n",
       "      <th>MAL</th>\n",
       "    </tr>\n",
       "    <tr>\n",
       "      <th>Yr_Mo_Dy</th>\n",
       "      <th></th>\n",
       "      <th></th>\n",
       "      <th></th>\n",
       "      <th></th>\n",
       "      <th></th>\n",
       "      <th></th>\n",
       "      <th></th>\n",
       "      <th></th>\n",
       "      <th></th>\n",
       "      <th></th>\n",
       "      <th></th>\n",
       "      <th></th>\n",
       "    </tr>\n",
       "  </thead>\n",
       "  <tbody>\n",
       "    <tr>\n",
       "      <th>1961</th>\n",
       "      <td>12.299583</td>\n",
       "      <td>10.351796</td>\n",
       "      <td>11.362369</td>\n",
       "      <td>6.958227</td>\n",
       "      <td>10.881763</td>\n",
       "      <td>7.729726</td>\n",
       "      <td>9.733923</td>\n",
       "      <td>8.858788</td>\n",
       "      <td>8.647652</td>\n",
       "      <td>9.835577</td>\n",
       "      <td>13.502795</td>\n",
       "      <td>13.680773</td>\n",
       "    </tr>\n",
       "    <tr>\n",
       "      <th>1962</th>\n",
       "      <td>12.246923</td>\n",
       "      <td>10.110438</td>\n",
       "      <td>11.732712</td>\n",
       "      <td>6.960440</td>\n",
       "      <td>10.657918</td>\n",
       "      <td>7.393068</td>\n",
       "      <td>11.020712</td>\n",
       "      <td>8.793753</td>\n",
       "      <td>8.316822</td>\n",
       "      <td>9.676247</td>\n",
       "      <td>12.930685</td>\n",
       "      <td>14.323956</td>\n",
       "    </tr>\n",
       "    <tr>\n",
       "      <th>1963</th>\n",
       "      <td>12.813452</td>\n",
       "      <td>10.836986</td>\n",
       "      <td>12.541151</td>\n",
       "      <td>7.330055</td>\n",
       "      <td>11.724110</td>\n",
       "      <td>8.434712</td>\n",
       "      <td>11.075699</td>\n",
       "      <td>10.336548</td>\n",
       "      <td>8.903589</td>\n",
       "      <td>10.224438</td>\n",
       "      <td>13.638877</td>\n",
       "      <td>14.999014</td>\n",
       "    </tr>\n",
       "    <tr>\n",
       "      <th>1964</th>\n",
       "      <td>12.363661</td>\n",
       "      <td>10.920164</td>\n",
       "      <td>12.104372</td>\n",
       "      <td>6.787787</td>\n",
       "      <td>11.454481</td>\n",
       "      <td>7.570874</td>\n",
       "      <td>10.259153</td>\n",
       "      <td>9.467350</td>\n",
       "      <td>7.789016</td>\n",
       "      <td>10.207951</td>\n",
       "      <td>13.740546</td>\n",
       "      <td>14.910301</td>\n",
       "    </tr>\n",
       "    <tr>\n",
       "      <th>1965</th>\n",
       "      <td>12.451370</td>\n",
       "      <td>11.075534</td>\n",
       "      <td>11.848767</td>\n",
       "      <td>6.858466</td>\n",
       "      <td>11.024795</td>\n",
       "      <td>7.478110</td>\n",
       "      <td>10.618712</td>\n",
       "      <td>8.879918</td>\n",
       "      <td>7.907425</td>\n",
       "      <td>9.918082</td>\n",
       "      <td>12.964247</td>\n",
       "      <td>15.591644</td>\n",
       "    </tr>\n",
       "    <tr>\n",
       "      <th>1966</th>\n",
       "      <td>13.461973</td>\n",
       "      <td>11.557205</td>\n",
       "      <td>12.020630</td>\n",
       "      <td>7.345726</td>\n",
       "      <td>11.805041</td>\n",
       "      <td>7.793671</td>\n",
       "      <td>10.579808</td>\n",
       "      <td>8.835096</td>\n",
       "      <td>8.514438</td>\n",
       "      <td>9.768959</td>\n",
       "      <td>14.265836</td>\n",
       "      <td>16.307260</td>\n",
       "    </tr>\n",
       "    <tr>\n",
       "      <th>1967</th>\n",
       "      <td>12.737151</td>\n",
       "      <td>10.990986</td>\n",
       "      <td>11.739397</td>\n",
       "      <td>7.143425</td>\n",
       "      <td>11.630740</td>\n",
       "      <td>7.368164</td>\n",
       "      <td>10.652027</td>\n",
       "      <td>9.325616</td>\n",
       "      <td>8.645014</td>\n",
       "      <td>9.547425</td>\n",
       "      <td>14.774548</td>\n",
       "      <td>17.135945</td>\n",
       "    </tr>\n",
       "    <tr>\n",
       "      <th>1968</th>\n",
       "      <td>11.835628</td>\n",
       "      <td>10.468197</td>\n",
       "      <td>11.409754</td>\n",
       "      <td>6.477678</td>\n",
       "      <td>10.760765</td>\n",
       "      <td>6.067322</td>\n",
       "      <td>8.859180</td>\n",
       "      <td>8.255519</td>\n",
       "      <td>7.224945</td>\n",
       "      <td>7.832978</td>\n",
       "      <td>12.808634</td>\n",
       "      <td>15.017486</td>\n",
       "    </tr>\n",
       "    <tr>\n",
       "      <th>1969</th>\n",
       "      <td>11.166356</td>\n",
       "      <td>9.723699</td>\n",
       "      <td>10.902000</td>\n",
       "      <td>5.767973</td>\n",
       "      <td>9.873918</td>\n",
       "      <td>6.189973</td>\n",
       "      <td>8.564493</td>\n",
       "      <td>7.711397</td>\n",
       "      <td>7.924521</td>\n",
       "      <td>7.754384</td>\n",
       "      <td>12.621233</td>\n",
       "      <td>15.762904</td>\n",
       "    </tr>\n",
       "    <tr>\n",
       "      <th>1970</th>\n",
       "      <td>12.600329</td>\n",
       "      <td>10.726932</td>\n",
       "      <td>11.730247</td>\n",
       "      <td>6.217178</td>\n",
       "      <td>10.567370</td>\n",
       "      <td>7.609452</td>\n",
       "      <td>9.609890</td>\n",
       "      <td>8.334630</td>\n",
       "      <td>9.297616</td>\n",
       "      <td>8.289808</td>\n",
       "      <td>13.183644</td>\n",
       "      <td>16.456027</td>\n",
       "    </tr>\n",
       "    <tr>\n",
       "      <th>1971</th>\n",
       "      <td>11.273123</td>\n",
       "      <td>9.095178</td>\n",
       "      <td>11.088329</td>\n",
       "      <td>5.241507</td>\n",
       "      <td>9.440329</td>\n",
       "      <td>6.097151</td>\n",
       "      <td>8.385890</td>\n",
       "      <td>6.757315</td>\n",
       "      <td>7.915370</td>\n",
       "      <td>7.229753</td>\n",
       "      <td>12.208932</td>\n",
       "      <td>15.025233</td>\n",
       "    </tr>\n",
       "    <tr>\n",
       "      <th>1972</th>\n",
       "      <td>12.463962</td>\n",
       "      <td>10.561311</td>\n",
       "      <td>12.058333</td>\n",
       "      <td>5.929699</td>\n",
       "      <td>9.430410</td>\n",
       "      <td>6.358825</td>\n",
       "      <td>9.704508</td>\n",
       "      <td>7.680792</td>\n",
       "      <td>8.357295</td>\n",
       "      <td>7.515273</td>\n",
       "      <td>12.727377</td>\n",
       "      <td>15.028716</td>\n",
       "    </tr>\n",
       "    <tr>\n",
       "      <th>1973</th>\n",
       "      <td>11.828466</td>\n",
       "      <td>10.680493</td>\n",
       "      <td>10.680493</td>\n",
       "      <td>5.547863</td>\n",
       "      <td>9.640877</td>\n",
       "      <td>6.548740</td>\n",
       "      <td>8.482110</td>\n",
       "      <td>7.614274</td>\n",
       "      <td>8.245534</td>\n",
       "      <td>7.812411</td>\n",
       "      <td>12.169699</td>\n",
       "      <td>15.441096</td>\n",
       "    </tr>\n",
       "    <tr>\n",
       "      <th>1974</th>\n",
       "      <td>13.643096</td>\n",
       "      <td>11.811781</td>\n",
       "      <td>12.336356</td>\n",
       "      <td>6.427041</td>\n",
       "      <td>11.110986</td>\n",
       "      <td>6.809781</td>\n",
       "      <td>10.084603</td>\n",
       "      <td>9.896986</td>\n",
       "      <td>9.331753</td>\n",
       "      <td>8.736356</td>\n",
       "      <td>13.252959</td>\n",
       "      <td>16.947671</td>\n",
       "    </tr>\n",
       "    <tr>\n",
       "      <th>1975</th>\n",
       "      <td>12.008575</td>\n",
       "      <td>10.293836</td>\n",
       "      <td>11.564712</td>\n",
       "      <td>5.269096</td>\n",
       "      <td>9.190082</td>\n",
       "      <td>5.668521</td>\n",
       "      <td>8.562603</td>\n",
       "      <td>7.843836</td>\n",
       "      <td>8.797945</td>\n",
       "      <td>7.382822</td>\n",
       "      <td>12.631671</td>\n",
       "      <td>15.307863</td>\n",
       "    </tr>\n",
       "    <tr>\n",
       "      <th>1976</th>\n",
       "      <td>11.737842</td>\n",
       "      <td>10.203115</td>\n",
       "      <td>10.761230</td>\n",
       "      <td>5.109426</td>\n",
       "      <td>8.846339</td>\n",
       "      <td>6.311038</td>\n",
       "      <td>9.149126</td>\n",
       "      <td>7.146202</td>\n",
       "      <td>8.883716</td>\n",
       "      <td>7.883087</td>\n",
       "      <td>12.332377</td>\n",
       "      <td>15.471448</td>\n",
       "    </tr>\n",
       "    <tr>\n",
       "      <th>1977</th>\n",
       "      <td>13.099616</td>\n",
       "      <td>11.144493</td>\n",
       "      <td>12.627836</td>\n",
       "      <td>6.073945</td>\n",
       "      <td>10.003836</td>\n",
       "      <td>8.586438</td>\n",
       "      <td>11.523205</td>\n",
       "      <td>8.378384</td>\n",
       "      <td>9.098192</td>\n",
       "      <td>8.821616</td>\n",
       "      <td>13.459068</td>\n",
       "      <td>16.590849</td>\n",
       "    </tr>\n",
       "    <tr>\n",
       "      <th>1978</th>\n",
       "      <td>12.504356</td>\n",
       "      <td>11.044274</td>\n",
       "      <td>11.380000</td>\n",
       "      <td>6.082356</td>\n",
       "      <td>10.167233</td>\n",
       "      <td>7.650658</td>\n",
       "      <td>9.489342</td>\n",
       "      <td>8.800466</td>\n",
       "      <td>9.089753</td>\n",
       "      <td>8.301699</td>\n",
       "      <td>12.967397</td>\n",
       "      <td>16.771370</td>\n",
       "    </tr>\n",
       "  </tbody>\n",
       "</table>\n",
       "</div>"
      ],
      "text/plain": [
       "                RPT        VAL        ROS       KIL        SHA       BIR  \\\n",
       "Yr_Mo_Dy                                                                   \n",
       "1961      12.299583  10.351796  11.362369  6.958227  10.881763  7.729726   \n",
       "1962      12.246923  10.110438  11.732712  6.960440  10.657918  7.393068   \n",
       "1963      12.813452  10.836986  12.541151  7.330055  11.724110  8.434712   \n",
       "1964      12.363661  10.920164  12.104372  6.787787  11.454481  7.570874   \n",
       "1965      12.451370  11.075534  11.848767  6.858466  11.024795  7.478110   \n",
       "1966      13.461973  11.557205  12.020630  7.345726  11.805041  7.793671   \n",
       "1967      12.737151  10.990986  11.739397  7.143425  11.630740  7.368164   \n",
       "1968      11.835628  10.468197  11.409754  6.477678  10.760765  6.067322   \n",
       "1969      11.166356   9.723699  10.902000  5.767973   9.873918  6.189973   \n",
       "1970      12.600329  10.726932  11.730247  6.217178  10.567370  7.609452   \n",
       "1971      11.273123   9.095178  11.088329  5.241507   9.440329  6.097151   \n",
       "1972      12.463962  10.561311  12.058333  5.929699   9.430410  6.358825   \n",
       "1973      11.828466  10.680493  10.680493  5.547863   9.640877  6.548740   \n",
       "1974      13.643096  11.811781  12.336356  6.427041  11.110986  6.809781   \n",
       "1975      12.008575  10.293836  11.564712  5.269096   9.190082  5.668521   \n",
       "1976      11.737842  10.203115  10.761230  5.109426   8.846339  6.311038   \n",
       "1977      13.099616  11.144493  12.627836  6.073945  10.003836  8.586438   \n",
       "1978      12.504356  11.044274  11.380000  6.082356  10.167233  7.650658   \n",
       "\n",
       "                DUB        CLA       MUL        CLO        BEL        MAL  \n",
       "Yr_Mo_Dy                                                                   \n",
       "1961       9.733923   8.858788  8.647652   9.835577  13.502795  13.680773  \n",
       "1962      11.020712   8.793753  8.316822   9.676247  12.930685  14.323956  \n",
       "1963      11.075699  10.336548  8.903589  10.224438  13.638877  14.999014  \n",
       "1964      10.259153   9.467350  7.789016  10.207951  13.740546  14.910301  \n",
       "1965      10.618712   8.879918  7.907425   9.918082  12.964247  15.591644  \n",
       "1966      10.579808   8.835096  8.514438   9.768959  14.265836  16.307260  \n",
       "1967      10.652027   9.325616  8.645014   9.547425  14.774548  17.135945  \n",
       "1968       8.859180   8.255519  7.224945   7.832978  12.808634  15.017486  \n",
       "1969       8.564493   7.711397  7.924521   7.754384  12.621233  15.762904  \n",
       "1970       9.609890   8.334630  9.297616   8.289808  13.183644  16.456027  \n",
       "1971       8.385890   6.757315  7.915370   7.229753  12.208932  15.025233  \n",
       "1972       9.704508   7.680792  8.357295   7.515273  12.727377  15.028716  \n",
       "1973       8.482110   7.614274  8.245534   7.812411  12.169699  15.441096  \n",
       "1974      10.084603   9.896986  9.331753   8.736356  13.252959  16.947671  \n",
       "1975       8.562603   7.843836  8.797945   7.382822  12.631671  15.307863  \n",
       "1976       9.149126   7.146202  8.883716   7.883087  12.332377  15.471448  \n",
       "1977      11.523205   8.378384  9.098192   8.821616  13.459068  16.590849  \n",
       "1978       9.489342   8.800466  9.089753   8.301699  12.967397  16.771370  "
      ]
     },
     "execution_count": 61,
     "metadata": {},
     "output_type": "execute_result"
    }
   ],
   "source": [
    "data.groupby(data.index.year).mean()\n"
   ]
  },
  {
   "cell_type": "code",
   "execution_count": 62,
   "id": "6dc0b376",
   "metadata": {},
   "outputs": [
    {
     "data": {
      "text/html": [
       "<div>\n",
       "<style scoped>\n",
       "    .dataframe tbody tr th:only-of-type {\n",
       "        vertical-align: middle;\n",
       "    }\n",
       "\n",
       "    .dataframe tbody tr th {\n",
       "        vertical-align: top;\n",
       "    }\n",
       "\n",
       "    .dataframe thead th {\n",
       "        text-align: right;\n",
       "    }\n",
       "</style>\n",
       "<table border=\"1\" class=\"dataframe\">\n",
       "  <thead>\n",
       "    <tr style=\"text-align: right;\">\n",
       "      <th></th>\n",
       "      <th></th>\n",
       "      <th>RPT</th>\n",
       "      <th>VAL</th>\n",
       "      <th>ROS</th>\n",
       "      <th>KIL</th>\n",
       "      <th>SHA</th>\n",
       "      <th>BIR</th>\n",
       "      <th>DUB</th>\n",
       "      <th>CLA</th>\n",
       "      <th>MUL</th>\n",
       "      <th>CLO</th>\n",
       "      <th>BEL</th>\n",
       "      <th>MAL</th>\n",
       "    </tr>\n",
       "    <tr>\n",
       "      <th>Yr_Mo_Dy</th>\n",
       "      <th>Yr_Mo_Dy</th>\n",
       "      <th></th>\n",
       "      <th></th>\n",
       "      <th></th>\n",
       "      <th></th>\n",
       "      <th></th>\n",
       "      <th></th>\n",
       "      <th></th>\n",
       "      <th></th>\n",
       "      <th></th>\n",
       "      <th></th>\n",
       "      <th></th>\n",
       "      <th></th>\n",
       "    </tr>\n",
       "  </thead>\n",
       "  <tbody>\n",
       "    <tr>\n",
       "      <th rowspan=\"5\" valign=\"top\">1961</th>\n",
       "      <th>1</th>\n",
       "      <td>14.841333</td>\n",
       "      <td>11.988333</td>\n",
       "      <td>13.431613</td>\n",
       "      <td>7.736774</td>\n",
       "      <td>11.072759</td>\n",
       "      <td>8.588065</td>\n",
       "      <td>11.184839</td>\n",
       "      <td>9.245333</td>\n",
       "      <td>9.085806</td>\n",
       "      <td>10.107419</td>\n",
       "      <td>13.880968</td>\n",
       "      <td>14.703226</td>\n",
       "    </tr>\n",
       "    <tr>\n",
       "      <th>2</th>\n",
       "      <td>16.269286</td>\n",
       "      <td>14.975357</td>\n",
       "      <td>14.441481</td>\n",
       "      <td>9.230741</td>\n",
       "      <td>13.852143</td>\n",
       "      <td>10.937500</td>\n",
       "      <td>11.890714</td>\n",
       "      <td>11.846071</td>\n",
       "      <td>11.821429</td>\n",
       "      <td>12.714286</td>\n",
       "      <td>18.583214</td>\n",
       "      <td>15.411786</td>\n",
       "    </tr>\n",
       "    <tr>\n",
       "      <th>3</th>\n",
       "      <td>10.890000</td>\n",
       "      <td>11.296452</td>\n",
       "      <td>10.752903</td>\n",
       "      <td>7.284000</td>\n",
       "      <td>10.509355</td>\n",
       "      <td>8.866774</td>\n",
       "      <td>9.644194</td>\n",
       "      <td>9.829677</td>\n",
       "      <td>10.294138</td>\n",
       "      <td>11.251935</td>\n",
       "      <td>16.410968</td>\n",
       "      <td>15.720000</td>\n",
       "    </tr>\n",
       "    <tr>\n",
       "      <th>4</th>\n",
       "      <td>10.722667</td>\n",
       "      <td>9.427667</td>\n",
       "      <td>9.998000</td>\n",
       "      <td>5.830667</td>\n",
       "      <td>8.435000</td>\n",
       "      <td>6.495000</td>\n",
       "      <td>6.925333</td>\n",
       "      <td>7.094667</td>\n",
       "      <td>7.342333</td>\n",
       "      <td>7.237000</td>\n",
       "      <td>11.147333</td>\n",
       "      <td>10.278333</td>\n",
       "    </tr>\n",
       "    <tr>\n",
       "      <th>5</th>\n",
       "      <td>9.860968</td>\n",
       "      <td>8.850000</td>\n",
       "      <td>10.818065</td>\n",
       "      <td>5.905333</td>\n",
       "      <td>9.490323</td>\n",
       "      <td>6.574839</td>\n",
       "      <td>7.604000</td>\n",
       "      <td>8.177097</td>\n",
       "      <td>8.039355</td>\n",
       "      <td>8.499355</td>\n",
       "      <td>11.900323</td>\n",
       "      <td>12.011613</td>\n",
       "    </tr>\n",
       "    <tr>\n",
       "      <th>...</th>\n",
       "      <th>...</th>\n",
       "      <td>...</td>\n",
       "      <td>...</td>\n",
       "      <td>...</td>\n",
       "      <td>...</td>\n",
       "      <td>...</td>\n",
       "      <td>...</td>\n",
       "      <td>...</td>\n",
       "      <td>...</td>\n",
       "      <td>...</td>\n",
       "      <td>...</td>\n",
       "      <td>...</td>\n",
       "      <td>...</td>\n",
       "    </tr>\n",
       "    <tr>\n",
       "      <th rowspan=\"5\" valign=\"top\">1978</th>\n",
       "      <th>8</th>\n",
       "      <td>9.645161</td>\n",
       "      <td>8.259355</td>\n",
       "      <td>9.032258</td>\n",
       "      <td>4.502903</td>\n",
       "      <td>7.368065</td>\n",
       "      <td>5.935161</td>\n",
       "      <td>5.650323</td>\n",
       "      <td>5.417742</td>\n",
       "      <td>7.241290</td>\n",
       "      <td>5.536774</td>\n",
       "      <td>10.466774</td>\n",
       "      <td>12.054194</td>\n",
       "    </tr>\n",
       "    <tr>\n",
       "      <th>9</th>\n",
       "      <td>10.913667</td>\n",
       "      <td>10.895000</td>\n",
       "      <td>10.635000</td>\n",
       "      <td>5.725000</td>\n",
       "      <td>10.372000</td>\n",
       "      <td>9.278333</td>\n",
       "      <td>10.790333</td>\n",
       "      <td>9.583000</td>\n",
       "      <td>10.069333</td>\n",
       "      <td>8.939000</td>\n",
       "      <td>15.680333</td>\n",
       "      <td>19.391333</td>\n",
       "    </tr>\n",
       "    <tr>\n",
       "      <th>10</th>\n",
       "      <td>9.897742</td>\n",
       "      <td>8.670968</td>\n",
       "      <td>9.295806</td>\n",
       "      <td>4.721290</td>\n",
       "      <td>8.525161</td>\n",
       "      <td>6.774194</td>\n",
       "      <td>8.115484</td>\n",
       "      <td>7.337742</td>\n",
       "      <td>8.297742</td>\n",
       "      <td>8.243871</td>\n",
       "      <td>13.776774</td>\n",
       "      <td>17.150000</td>\n",
       "    </tr>\n",
       "    <tr>\n",
       "      <th>11</th>\n",
       "      <td>16.151667</td>\n",
       "      <td>14.802667</td>\n",
       "      <td>13.508000</td>\n",
       "      <td>7.317333</td>\n",
       "      <td>11.475000</td>\n",
       "      <td>8.743000</td>\n",
       "      <td>11.492333</td>\n",
       "      <td>9.657333</td>\n",
       "      <td>10.701333</td>\n",
       "      <td>10.676000</td>\n",
       "      <td>17.404667</td>\n",
       "      <td>20.723000</td>\n",
       "    </tr>\n",
       "    <tr>\n",
       "      <th>12</th>\n",
       "      <td>16.175484</td>\n",
       "      <td>13.748065</td>\n",
       "      <td>15.635161</td>\n",
       "      <td>7.094839</td>\n",
       "      <td>11.398710</td>\n",
       "      <td>9.241613</td>\n",
       "      <td>12.077419</td>\n",
       "      <td>10.194839</td>\n",
       "      <td>10.616774</td>\n",
       "      <td>11.028710</td>\n",
       "      <td>13.859677</td>\n",
       "      <td>21.371613</td>\n",
       "    </tr>\n",
       "  </tbody>\n",
       "</table>\n",
       "<p>216 rows × 12 columns</p>\n",
       "</div>"
      ],
      "text/plain": [
       "                         RPT        VAL        ROS       KIL        SHA  \\\n",
       "Yr_Mo_Dy Yr_Mo_Dy                                                         \n",
       "1961     1         14.841333  11.988333  13.431613  7.736774  11.072759   \n",
       "         2         16.269286  14.975357  14.441481  9.230741  13.852143   \n",
       "         3         10.890000  11.296452  10.752903  7.284000  10.509355   \n",
       "         4         10.722667   9.427667   9.998000  5.830667   8.435000   \n",
       "         5          9.860968   8.850000  10.818065  5.905333   9.490323   \n",
       "...                      ...        ...        ...       ...        ...   \n",
       "1978     8          9.645161   8.259355   9.032258  4.502903   7.368065   \n",
       "         9         10.913667  10.895000  10.635000  5.725000  10.372000   \n",
       "         10         9.897742   8.670968   9.295806  4.721290   8.525161   \n",
       "         11        16.151667  14.802667  13.508000  7.317333  11.475000   \n",
       "         12        16.175484  13.748065  15.635161  7.094839  11.398710   \n",
       "\n",
       "                         BIR        DUB        CLA        MUL        CLO  \\\n",
       "Yr_Mo_Dy Yr_Mo_Dy                                                          \n",
       "1961     1          8.588065  11.184839   9.245333   9.085806  10.107419   \n",
       "         2         10.937500  11.890714  11.846071  11.821429  12.714286   \n",
       "         3          8.866774   9.644194   9.829677  10.294138  11.251935   \n",
       "         4          6.495000   6.925333   7.094667   7.342333   7.237000   \n",
       "         5          6.574839   7.604000   8.177097   8.039355   8.499355   \n",
       "...                      ...        ...        ...        ...        ...   \n",
       "1978     8          5.935161   5.650323   5.417742   7.241290   5.536774   \n",
       "         9          9.278333  10.790333   9.583000  10.069333   8.939000   \n",
       "         10         6.774194   8.115484   7.337742   8.297742   8.243871   \n",
       "         11         8.743000  11.492333   9.657333  10.701333  10.676000   \n",
       "         12         9.241613  12.077419  10.194839  10.616774  11.028710   \n",
       "\n",
       "                         BEL        MAL  \n",
       "Yr_Mo_Dy Yr_Mo_Dy                        \n",
       "1961     1         13.880968  14.703226  \n",
       "         2         18.583214  15.411786  \n",
       "         3         16.410968  15.720000  \n",
       "         4         11.147333  10.278333  \n",
       "         5         11.900323  12.011613  \n",
       "...                      ...        ...  \n",
       "1978     8         10.466774  12.054194  \n",
       "         9         15.680333  19.391333  \n",
       "         10        13.776774  17.150000  \n",
       "         11        17.404667  20.723000  \n",
       "         12        13.859677  21.371613  \n",
       "\n",
       "[216 rows x 12 columns]"
      ]
     },
     "execution_count": 62,
     "metadata": {},
     "output_type": "execute_result"
    }
   ],
   "source": [
    "data.groupby([data.index.year, data.index.month]).mean()\n"
   ]
  },
  {
   "cell_type": "code",
   "execution_count": 63,
   "id": "00202f5b",
   "metadata": {},
   "outputs": [
    {
     "data": {
      "text/html": [
       "<div>\n",
       "<style scoped>\n",
       "    .dataframe tbody tr th:only-of-type {\n",
       "        vertical-align: middle;\n",
       "    }\n",
       "\n",
       "    .dataframe tbody tr th {\n",
       "        vertical-align: top;\n",
       "    }\n",
       "\n",
       "    .dataframe thead th {\n",
       "        text-align: right;\n",
       "    }\n",
       "</style>\n",
       "<table border=\"1\" class=\"dataframe\">\n",
       "  <thead>\n",
       "    <tr style=\"text-align: right;\">\n",
       "      <th></th>\n",
       "      <th>RPT</th>\n",
       "      <th>VAL</th>\n",
       "      <th>ROS</th>\n",
       "      <th>KIL</th>\n",
       "      <th>SHA</th>\n",
       "      <th>BIR</th>\n",
       "      <th>DUB</th>\n",
       "      <th>CLA</th>\n",
       "      <th>MUL</th>\n",
       "      <th>CLO</th>\n",
       "      <th>BEL</th>\n",
       "      <th>MAL</th>\n",
       "    </tr>\n",
       "    <tr>\n",
       "      <th>Yr_Mo_Dy</th>\n",
       "      <th></th>\n",
       "      <th></th>\n",
       "      <th></th>\n",
       "      <th></th>\n",
       "      <th></th>\n",
       "      <th></th>\n",
       "      <th></th>\n",
       "      <th></th>\n",
       "      <th></th>\n",
       "      <th></th>\n",
       "      <th></th>\n",
       "      <th></th>\n",
       "    </tr>\n",
       "  </thead>\n",
       "  <tbody>\n",
       "    <tr>\n",
       "      <th>1961-01-01</th>\n",
       "      <td>15.040000</td>\n",
       "      <td>14.960000</td>\n",
       "      <td>13.170000</td>\n",
       "      <td>9.290000</td>\n",
       "      <td>NaN</td>\n",
       "      <td>9.870000</td>\n",
       "      <td>13.670000</td>\n",
       "      <td>10.250000</td>\n",
       "      <td>10.830000</td>\n",
       "      <td>12.580000</td>\n",
       "      <td>18.500000</td>\n",
       "      <td>15.040000</td>\n",
       "    </tr>\n",
       "    <tr>\n",
       "      <th>1961-01-08</th>\n",
       "      <td>13.541429</td>\n",
       "      <td>11.486667</td>\n",
       "      <td>10.487143</td>\n",
       "      <td>6.417143</td>\n",
       "      <td>9.474286</td>\n",
       "      <td>6.435714</td>\n",
       "      <td>11.061429</td>\n",
       "      <td>6.616667</td>\n",
       "      <td>8.434286</td>\n",
       "      <td>8.497143</td>\n",
       "      <td>12.481429</td>\n",
       "      <td>13.238571</td>\n",
       "    </tr>\n",
       "    <tr>\n",
       "      <th>1961-01-15</th>\n",
       "      <td>12.468571</td>\n",
       "      <td>8.967143</td>\n",
       "      <td>11.958571</td>\n",
       "      <td>4.630000</td>\n",
       "      <td>7.351429</td>\n",
       "      <td>5.072857</td>\n",
       "      <td>7.535714</td>\n",
       "      <td>6.820000</td>\n",
       "      <td>5.712857</td>\n",
       "      <td>7.571429</td>\n",
       "      <td>11.125714</td>\n",
       "      <td>11.024286</td>\n",
       "    </tr>\n",
       "    <tr>\n",
       "      <th>1961-01-22</th>\n",
       "      <td>13.204286</td>\n",
       "      <td>9.862857</td>\n",
       "      <td>12.982857</td>\n",
       "      <td>6.328571</td>\n",
       "      <td>8.966667</td>\n",
       "      <td>7.417143</td>\n",
       "      <td>9.257143</td>\n",
       "      <td>7.875714</td>\n",
       "      <td>7.145714</td>\n",
       "      <td>8.124286</td>\n",
       "      <td>9.821429</td>\n",
       "      <td>11.434286</td>\n",
       "    </tr>\n",
       "    <tr>\n",
       "      <th>1961-01-29</th>\n",
       "      <td>19.880000</td>\n",
       "      <td>16.141429</td>\n",
       "      <td>18.225714</td>\n",
       "      <td>12.720000</td>\n",
       "      <td>17.432857</td>\n",
       "      <td>14.828571</td>\n",
       "      <td>15.528571</td>\n",
       "      <td>15.160000</td>\n",
       "      <td>14.480000</td>\n",
       "      <td>15.640000</td>\n",
       "      <td>20.930000</td>\n",
       "      <td>22.530000</td>\n",
       "    </tr>\n",
       "    <tr>\n",
       "      <th>...</th>\n",
       "      <td>...</td>\n",
       "      <td>...</td>\n",
       "      <td>...</td>\n",
       "      <td>...</td>\n",
       "      <td>...</td>\n",
       "      <td>...</td>\n",
       "      <td>...</td>\n",
       "      <td>...</td>\n",
       "      <td>...</td>\n",
       "      <td>...</td>\n",
       "      <td>...</td>\n",
       "      <td>...</td>\n",
       "    </tr>\n",
       "    <tr>\n",
       "      <th>1978-12-03</th>\n",
       "      <td>14.934286</td>\n",
       "      <td>11.232857</td>\n",
       "      <td>13.941429</td>\n",
       "      <td>5.565714</td>\n",
       "      <td>10.215714</td>\n",
       "      <td>8.618571</td>\n",
       "      <td>9.642857</td>\n",
       "      <td>7.685714</td>\n",
       "      <td>9.011429</td>\n",
       "      <td>9.547143</td>\n",
       "      <td>11.835714</td>\n",
       "      <td>18.728571</td>\n",
       "    </tr>\n",
       "    <tr>\n",
       "      <th>1978-12-10</th>\n",
       "      <td>20.740000</td>\n",
       "      <td>19.190000</td>\n",
       "      <td>17.034286</td>\n",
       "      <td>9.777143</td>\n",
       "      <td>15.287143</td>\n",
       "      <td>12.774286</td>\n",
       "      <td>14.437143</td>\n",
       "      <td>12.488571</td>\n",
       "      <td>13.870000</td>\n",
       "      <td>14.082857</td>\n",
       "      <td>18.517143</td>\n",
       "      <td>23.061429</td>\n",
       "    </tr>\n",
       "    <tr>\n",
       "      <th>1978-12-17</th>\n",
       "      <td>16.758571</td>\n",
       "      <td>14.692857</td>\n",
       "      <td>14.987143</td>\n",
       "      <td>6.917143</td>\n",
       "      <td>11.397143</td>\n",
       "      <td>7.272857</td>\n",
       "      <td>10.208571</td>\n",
       "      <td>7.967143</td>\n",
       "      <td>9.168571</td>\n",
       "      <td>8.565714</td>\n",
       "      <td>11.102857</td>\n",
       "      <td>15.562857</td>\n",
       "    </tr>\n",
       "    <tr>\n",
       "      <th>1978-12-24</th>\n",
       "      <td>11.155714</td>\n",
       "      <td>8.008571</td>\n",
       "      <td>13.172857</td>\n",
       "      <td>4.004286</td>\n",
       "      <td>7.825714</td>\n",
       "      <td>6.290000</td>\n",
       "      <td>7.798571</td>\n",
       "      <td>8.667143</td>\n",
       "      <td>7.151429</td>\n",
       "      <td>8.072857</td>\n",
       "      <td>11.845714</td>\n",
       "      <td>18.977143</td>\n",
       "    </tr>\n",
       "    <tr>\n",
       "      <th>1978-12-31</th>\n",
       "      <td>14.951429</td>\n",
       "      <td>11.801429</td>\n",
       "      <td>16.035714</td>\n",
       "      <td>6.507143</td>\n",
       "      <td>9.660000</td>\n",
       "      <td>8.620000</td>\n",
       "      <td>13.708571</td>\n",
       "      <td>10.477143</td>\n",
       "      <td>10.868571</td>\n",
       "      <td>11.471429</td>\n",
       "      <td>12.947143</td>\n",
       "      <td>26.844286</td>\n",
       "    </tr>\n",
       "  </tbody>\n",
       "</table>\n",
       "<p>940 rows × 12 columns</p>\n",
       "</div>"
      ],
      "text/plain": [
       "                  RPT        VAL        ROS        KIL        SHA        BIR  \\\n",
       "Yr_Mo_Dy                                                                       \n",
       "1961-01-01  15.040000  14.960000  13.170000   9.290000        NaN   9.870000   \n",
       "1961-01-08  13.541429  11.486667  10.487143   6.417143   9.474286   6.435714   \n",
       "1961-01-15  12.468571   8.967143  11.958571   4.630000   7.351429   5.072857   \n",
       "1961-01-22  13.204286   9.862857  12.982857   6.328571   8.966667   7.417143   \n",
       "1961-01-29  19.880000  16.141429  18.225714  12.720000  17.432857  14.828571   \n",
       "...               ...        ...        ...        ...        ...        ...   \n",
       "1978-12-03  14.934286  11.232857  13.941429   5.565714  10.215714   8.618571   \n",
       "1978-12-10  20.740000  19.190000  17.034286   9.777143  15.287143  12.774286   \n",
       "1978-12-17  16.758571  14.692857  14.987143   6.917143  11.397143   7.272857   \n",
       "1978-12-24  11.155714   8.008571  13.172857   4.004286   7.825714   6.290000   \n",
       "1978-12-31  14.951429  11.801429  16.035714   6.507143   9.660000   8.620000   \n",
       "\n",
       "                  DUB        CLA        MUL        CLO        BEL        MAL  \n",
       "Yr_Mo_Dy                                                                      \n",
       "1961-01-01  13.670000  10.250000  10.830000  12.580000  18.500000  15.040000  \n",
       "1961-01-08  11.061429   6.616667   8.434286   8.497143  12.481429  13.238571  \n",
       "1961-01-15   7.535714   6.820000   5.712857   7.571429  11.125714  11.024286  \n",
       "1961-01-22   9.257143   7.875714   7.145714   8.124286   9.821429  11.434286  \n",
       "1961-01-29  15.528571  15.160000  14.480000  15.640000  20.930000  22.530000  \n",
       "...               ...        ...        ...        ...        ...        ...  \n",
       "1978-12-03   9.642857   7.685714   9.011429   9.547143  11.835714  18.728571  \n",
       "1978-12-10  14.437143  12.488571  13.870000  14.082857  18.517143  23.061429  \n",
       "1978-12-17  10.208571   7.967143   9.168571   8.565714  11.102857  15.562857  \n",
       "1978-12-24   7.798571   8.667143   7.151429   8.072857  11.845714  18.977143  \n",
       "1978-12-31  13.708571  10.477143  10.868571  11.471429  12.947143  26.844286  \n",
       "\n",
       "[940 rows x 12 columns]"
      ]
     },
     "execution_count": 63,
     "metadata": {},
     "output_type": "execute_result"
    }
   ],
   "source": [
    "data.groupby(pd.Grouper(freq='W')).mean()\n"
   ]
  },
  {
   "cell_type": "code",
   "execution_count": 64,
   "id": "59d56148",
   "metadata": {},
   "outputs": [
    {
     "name": "stdout",
     "output_type": "stream",
     "text": [
      "                  min        max       mean       std\n",
      "Yr_Mo_Dy                                             \n",
      "1961-01-08   6.417143  13.541429   9.847659  2.601705\n",
      "1961-01-15   4.630000  12.468571   8.353214  2.719649\n",
      "1961-01-22   6.328571  13.204286   9.368413  2.224531\n",
      "1961-01-29  12.720000  22.530000  16.958095  2.915635\n",
      "1961-02-05   8.247143  16.827143  11.800357  2.807310\n",
      "1961-02-12  10.774286  21.832857  15.891548  3.147412\n",
      "1961-02-19   9.542857  21.167143  13.726825  3.105819\n",
      "1961-02-26   8.524286  16.304286  12.604286  2.364323\n",
      "1961-03-05   7.834286  17.842857  11.766766  2.535336\n",
      "1961-03-12   6.881429  16.701429  10.612579  2.746233\n",
      "1961-03-19   7.084286  19.350000  11.756310  3.320318\n",
      "1961-03-26   6.648571  18.134286  10.462857  3.071975\n",
      "1961-04-02   7.300000  13.900000  10.268433  1.883742\n",
      "1961-04-09   5.958571  13.607143   9.412381  2.399840\n",
      "1961-04-16   4.947143   9.482857   6.845595  1.803831\n",
      "1961-04-23   7.768571  13.620000  10.146667  1.895943\n",
      "1961-04-30   4.801429  10.117143   7.445000  1.864130\n",
      "1961-05-07   9.952857  17.548571  13.164048  2.223149\n",
      "1961-05-14   5.295714  10.421429   8.059802  1.491250\n",
      "1961-05-21   4.258571  12.042857   7.470258  2.327906\n",
      "1961-05-28   3.748333  11.697143   7.177956  2.370473\n",
      "1961-06-04   6.310000  13.597143   9.244643  2.167131\n",
      "1961-06-11   5.214286  12.250000   8.459048  2.136900\n",
      "1961-06-18   6.520000  15.351429  10.173810  2.676791\n",
      "1961-06-25   5.478571  17.410000  10.066548  3.494271\n",
      "1961-07-02   6.507143  14.535714   9.528810  2.311594\n",
      "1961-07-09   7.220000  15.987143  10.580099  2.505843\n",
      "1961-07-16   8.412857  16.680000  11.666190  2.483875\n",
      "1961-07-23   2.715714   8.415714   5.350952  1.726225\n",
      "1961-07-30   5.727143  13.761429   9.431071  2.279097\n",
      "1961-08-06   6.238571  13.760000   9.446786  2.099734\n",
      "1961-08-13   5.078571  10.934286   8.199206  1.855421\n",
      "1961-08-20   8.600000  16.626667  12.668413  2.466378\n",
      "1961-08-27   7.108571  16.485714  12.061786  2.649263\n",
      "1961-09-03   5.642857  13.664286   8.437381  2.300787\n",
      "1961-09-10   5.685714  11.034286   8.186786  1.866173\n",
      "1961-09-17  10.442857  19.878571  14.510833  3.058931\n",
      "1961-09-24   4.851667  11.018571   7.247937  1.958569\n",
      "1961-10-01   8.370000  16.208571  11.771091  2.750518\n",
      "1961-10-08   5.262857  11.410000   8.034167  2.148981\n",
      "1961-10-15   6.578571  15.260000   9.828115  2.680505\n",
      "1961-10-22  10.721429  23.641429  15.479643  3.509702\n",
      "1961-10-29   8.408571  18.404286  12.688631  3.139748\n",
      "1961-11-05   7.541429  19.195714  11.612857  3.253959\n",
      "1961-11-12   4.220000  10.858571   7.487262  2.516385\n",
      "1961-11-19   4.501429  16.988571   7.647024  3.534858\n",
      "1961-11-26   4.970000  12.732857   8.755516  2.472631\n",
      "1961-12-03   6.245714  14.725714   9.754762  2.724343\n",
      "1961-12-10   8.624286  17.362857  13.145357  2.904971\n",
      "1961-12-17   8.697143  15.112857  12.703095  2.110713\n",
      "1961-12-24   5.517143  15.757143   9.315714  3.174787\n",
      "1961-12-31   5.372857  15.804286   9.562381  3.288602\n"
     ]
    }
   ],
   "source": [
    "# Min Max Mean and Std\n",
    "weekly_data = data.loc['1961-01-02':'1961-12-31'].resample('W').mean()\n",
    "\n",
    "\n",
    "weekly_stats = pd.DataFrame({\n",
    "    'min': weekly_data.min(axis=1),\n",
    "    'max': weekly_data.max(axis=1),\n",
    "    'mean': weekly_data.mean(axis=1),\n",
    "    'std': weekly_data.std(axis=1)\n",
    "})\n",
    "\n",
    "\n",
    "print(weekly_stats.head(52))"
   ]
  },
  {
   "cell_type": "markdown",
   "id": "cbee17f3",
   "metadata": {},
   "source": [
    "# Question 5"
   ]
  },
  {
   "cell_type": "code",
   "execution_count": 218,
   "id": "c26d34a3",
   "metadata": {},
   "outputs": [],
   "source": [
    "import pandas as pd\n",
    "import numpy as np"
   ]
  },
  {
   "cell_type": "code",
   "execution_count": 219,
   "id": "0f488d99",
   "metadata": {},
   "outputs": [],
   "source": [
    "url = 'https://raw.githubusercontent.com/justmarkham/DAT8/master/data/chipotle.tsv'\n",
    "chipo = pd.read_csv(url, delimiter='\\t')"
   ]
  },
  {
   "cell_type": "code",
   "execution_count": 220,
   "id": "a54f9c8d",
   "metadata": {},
   "outputs": [],
   "source": [
    "chipo = pd.read_csv(url, delimiter='\\t')"
   ]
  },
  {
   "cell_type": "code",
   "execution_count": 221,
   "id": "49c923da",
   "metadata": {},
   "outputs": [
    {
     "data": {
      "text/html": [
       "<div>\n",
       "<style scoped>\n",
       "    .dataframe tbody tr th:only-of-type {\n",
       "        vertical-align: middle;\n",
       "    }\n",
       "\n",
       "    .dataframe tbody tr th {\n",
       "        vertical-align: top;\n",
       "    }\n",
       "\n",
       "    .dataframe thead th {\n",
       "        text-align: right;\n",
       "    }\n",
       "</style>\n",
       "<table border=\"1\" class=\"dataframe\">\n",
       "  <thead>\n",
       "    <tr style=\"text-align: right;\">\n",
       "      <th></th>\n",
       "      <th>order_id</th>\n",
       "      <th>quantity</th>\n",
       "      <th>item_name</th>\n",
       "      <th>choice_description</th>\n",
       "      <th>item_price</th>\n",
       "    </tr>\n",
       "  </thead>\n",
       "  <tbody>\n",
       "    <tr>\n",
       "      <th>0</th>\n",
       "      <td>1</td>\n",
       "      <td>1</td>\n",
       "      <td>Chips and Fresh Tomato Salsa</td>\n",
       "      <td>NaN</td>\n",
       "      <td>$2.39</td>\n",
       "    </tr>\n",
       "    <tr>\n",
       "      <th>1</th>\n",
       "      <td>1</td>\n",
       "      <td>1</td>\n",
       "      <td>Izze</td>\n",
       "      <td>[Clementine]</td>\n",
       "      <td>$3.39</td>\n",
       "    </tr>\n",
       "    <tr>\n",
       "      <th>2</th>\n",
       "      <td>1</td>\n",
       "      <td>1</td>\n",
       "      <td>Nantucket Nectar</td>\n",
       "      <td>[Apple]</td>\n",
       "      <td>$3.39</td>\n",
       "    </tr>\n",
       "    <tr>\n",
       "      <th>3</th>\n",
       "      <td>1</td>\n",
       "      <td>1</td>\n",
       "      <td>Chips and Tomatillo-Green Chili Salsa</td>\n",
       "      <td>NaN</td>\n",
       "      <td>$2.39</td>\n",
       "    </tr>\n",
       "    <tr>\n",
       "      <th>4</th>\n",
       "      <td>2</td>\n",
       "      <td>2</td>\n",
       "      <td>Chicken Bowl</td>\n",
       "      <td>[Tomatillo-Red Chili Salsa (Hot), [Black Beans...</td>\n",
       "      <td>$16.98</td>\n",
       "    </tr>\n",
       "    <tr>\n",
       "      <th>5</th>\n",
       "      <td>3</td>\n",
       "      <td>1</td>\n",
       "      <td>Chicken Bowl</td>\n",
       "      <td>[Fresh Tomato Salsa (Mild), [Rice, Cheese, Sou...</td>\n",
       "      <td>$10.98</td>\n",
       "    </tr>\n",
       "    <tr>\n",
       "      <th>6</th>\n",
       "      <td>3</td>\n",
       "      <td>1</td>\n",
       "      <td>Side of Chips</td>\n",
       "      <td>NaN</td>\n",
       "      <td>$1.69</td>\n",
       "    </tr>\n",
       "    <tr>\n",
       "      <th>7</th>\n",
       "      <td>4</td>\n",
       "      <td>1</td>\n",
       "      <td>Steak Burrito</td>\n",
       "      <td>[Tomatillo Red Chili Salsa, [Fajita Vegetables...</td>\n",
       "      <td>$11.75</td>\n",
       "    </tr>\n",
       "    <tr>\n",
       "      <th>8</th>\n",
       "      <td>4</td>\n",
       "      <td>1</td>\n",
       "      <td>Steak Soft Tacos</td>\n",
       "      <td>[Tomatillo Green Chili Salsa, [Pinto Beans, Ch...</td>\n",
       "      <td>$9.25</td>\n",
       "    </tr>\n",
       "    <tr>\n",
       "      <th>9</th>\n",
       "      <td>5</td>\n",
       "      <td>1</td>\n",
       "      <td>Steak Burrito</td>\n",
       "      <td>[Fresh Tomato Salsa, [Rice, Black Beans, Pinto...</td>\n",
       "      <td>$9.25</td>\n",
       "    </tr>\n",
       "  </tbody>\n",
       "</table>\n",
       "</div>"
      ],
      "text/plain": [
       "   order_id  quantity                              item_name  \\\n",
       "0         1         1           Chips and Fresh Tomato Salsa   \n",
       "1         1         1                                   Izze   \n",
       "2         1         1                       Nantucket Nectar   \n",
       "3         1         1  Chips and Tomatillo-Green Chili Salsa   \n",
       "4         2         2                           Chicken Bowl   \n",
       "5         3         1                           Chicken Bowl   \n",
       "6         3         1                          Side of Chips   \n",
       "7         4         1                          Steak Burrito   \n",
       "8         4         1                       Steak Soft Tacos   \n",
       "9         5         1                          Steak Burrito   \n",
       "\n",
       "                                  choice_description item_price  \n",
       "0                                                NaN     $2.39   \n",
       "1                                       [Clementine]     $3.39   \n",
       "2                                            [Apple]     $3.39   \n",
       "3                                                NaN     $2.39   \n",
       "4  [Tomatillo-Red Chili Salsa (Hot), [Black Beans...    $16.98   \n",
       "5  [Fresh Tomato Salsa (Mild), [Rice, Cheese, Sou...    $10.98   \n",
       "6                                                NaN     $1.69   \n",
       "7  [Tomatillo Red Chili Salsa, [Fajita Vegetables...    $11.75   \n",
       "8  [Tomatillo Green Chili Salsa, [Pinto Beans, Ch...     $9.25   \n",
       "9  [Fresh Tomato Salsa, [Rice, Black Beans, Pinto...     $9.25   "
      ]
     },
     "execution_count": 221,
     "metadata": {},
     "output_type": "execute_result"
    }
   ],
   "source": [
    "chipo.head(10)"
   ]
  },
  {
   "cell_type": "code",
   "execution_count": 222,
   "id": "acde4307",
   "metadata": {},
   "outputs": [
    {
     "name": "stdout",
     "output_type": "stream",
     "text": [
      "The number of observations in the dataset is 4622\n"
     ]
    }
   ],
   "source": [
    "print(f\"The number of observations in the dataset is {len(chipo)}\")"
   ]
  },
  {
   "cell_type": "code",
   "execution_count": 223,
   "id": "f6054acb",
   "metadata": {},
   "outputs": [
    {
     "name": "stdout",
     "output_type": "stream",
     "text": [
      "The number of columns in the dataset is 5\n"
     ]
    }
   ],
   "source": [
    "print(f\"The number of columns in the dataset is {len(chipo.columns)}\")"
   ]
  },
  {
   "cell_type": "code",
   "execution_count": 224,
   "id": "d2b5b52f",
   "metadata": {},
   "outputs": [
    {
     "name": "stdout",
     "output_type": "stream",
     "text": [
      "Columns in the dataset:\n",
      "Index(['order_id', 'quantity', 'item_name', 'choice_description',\n",
      "       'item_price'],\n",
      "      dtype='object')\n"
     ]
    }
   ],
   "source": [
    "print(\"Columns in the dataset:\")\n",
    "print(chipo.columns)"
   ]
  },
  {
   "cell_type": "code",
   "execution_count": 225,
   "id": "1b2f1709",
   "metadata": {},
   "outputs": [
    {
     "name": "stdout",
     "output_type": "stream",
     "text": [
      "RangeIndex(start=0, stop=4622, step=1)\n"
     ]
    }
   ],
   "source": [
    "print(chipo.index)"
   ]
  },
  {
   "cell_type": "code",
   "execution_count": 226,
   "id": "1fbdd9cf",
   "metadata": {},
   "outputs": [
    {
     "name": "stdout",
     "output_type": "stream",
     "text": [
      "The most-ordered item is:\n",
      "item_name\n",
      "Chicken Bowl    761\n",
      "Name: quantity, dtype: int64\n"
     ]
    }
   ],
   "source": [
    "most_ordered = chipo.groupby('item_name')['quantity'].sum().sort_values(ascending=False).head(1)\n",
    "print(f\"The most-ordered item is:\\n{most_ordered}\")"
   ]
  },
  {
   "cell_type": "code",
   "execution_count": 227,
   "id": "9fa32ca1",
   "metadata": {},
   "outputs": [
    {
     "name": "stdout",
     "output_type": "stream",
     "text": [
      "The number of items ordered for the most-ordered item is 761\n"
     ]
    }
   ],
   "source": [
    "print(f\"The number of items ordered for the most-ordered item is {most_ordered.values[0]}\")"
   ]
  },
  {
   "cell_type": "code",
   "execution_count": 228,
   "id": "040c8db7",
   "metadata": {},
   "outputs": [
    {
     "name": "stdout",
     "output_type": "stream",
     "text": [
      "The most ordered item in the choice_description column is:\n",
      "choice_description\n",
      "[Diet Coke]    159\n",
      "Name: quantity, dtype: int64\n"
     ]
    }
   ],
   "source": [
    "most_ordered_desc = chipo.groupby('choice_description')['quantity'].sum().sort_values(ascending=False).head(1)\n",
    "print(f\"The most ordered item in the choice_description column is:\\n{most_ordered_desc}\")"
   ]
  },
  {
   "cell_type": "code",
   "execution_count": 229,
   "id": "b92b58fe",
   "metadata": {},
   "outputs": [
    {
     "name": "stdout",
     "output_type": "stream",
     "text": [
      "The total number of items ordered is 4972\n"
     ]
    }
   ],
   "source": [
    "total_items_ordered = chipo['quantity'].sum()\n",
    "print(f\"The total number of items ordered is {total_items_ordered}\")"
   ]
  },
  {
   "cell_type": "code",
   "execution_count": 230,
   "id": "1f3a2901",
   "metadata": {},
   "outputs": [
    {
     "name": "stdout",
     "output_type": "stream",
     "text": [
      "float64\n"
     ]
    }
   ],
   "source": [
    "chipo['item_price'] = chipo['item_price'].apply(lambda x: float(x[1:-1]))\n",
    "\n",
    "print(chipo['item_price'].dtype)"
   ]
  },
  {
   "cell_type": "code",
   "execution_count": 231,
   "id": "e874325c",
   "metadata": {},
   "outputs": [
    {
     "name": "stdout",
     "output_type": "stream",
     "text": [
      "The revenue for the period in the dataset is $39237.02\n"
     ]
    }
   ],
   "source": [
    "revenue = (chipo['quantity'] * chipo['item_price']).sum()\n",
    "print(f\"The revenue for the period in the dataset is ${revenue:.2f}\")"
   ]
  },
  {
   "cell_type": "code",
   "execution_count": 232,
   "id": "6305b6a3",
   "metadata": {},
   "outputs": [
    {
     "name": "stdout",
     "output_type": "stream",
     "text": [
      "The number of orders made in the period is 1834\n"
     ]
    }
   ],
   "source": [
    "num_orders = len(chipo['order_id'].unique())\n",
    "print(f\"The number of orders made in the period is {num_orders}\")"
   ]
  },
  {
   "cell_type": "code",
   "execution_count": 236,
   "id": "00619340",
   "metadata": {},
   "outputs": [
    {
     "name": "stdout",
     "output_type": "stream",
     "text": [
      "The average revenue amount per order is: $ 21.39\n"
     ]
    }
   ],
   "source": [
    "total_revenue = (chipo['item_price'] * chipo['quantity']).sum()\n",
    "\n",
    "total_orders = chipo['order_id'].nunique()\n",
    "\n",
    "avg_revenue_per_order = total_revenue / total_orders\n",
    "\n",
    "print(\"The average revenue amount per order is: $\", round(avg_revenue_per_order, 2))"
   ]
  },
  {
   "cell_type": "markdown",
   "id": "7ee4e5c5",
   "metadata": {},
   "source": [
    "# Question 6"
   ]
  },
  {
   "cell_type": "code",
   "execution_count": 1,
   "id": "274f78f0",
   "metadata": {},
   "outputs": [],
   "source": [
    "import pandas as pd\n",
    "import matplotlib.pyplot as plt"
   ]
  },
  {
   "cell_type": "code",
   "execution_count": 2,
   "id": "af5b25d9",
   "metadata": {},
   "outputs": [],
   "source": [
    "marriages_divorces = pd.read_csv('us-marriages-divorces-1867-2014.csv')"
   ]
  },
  {
   "cell_type": "code",
   "execution_count": 3,
   "id": "06540c9a",
   "metadata": {},
   "outputs": [
    {
     "data": {
      "image/png": "[encoded data removed]",
      "text/plain": [
       "<Figure size 640x480 with 1 Axes>"
      ]
     },
     "metadata": {},
     "output_type": "display_data"
    }
   ],
   "source": [
    "plt.plot(marriages_divorces.Year, marriages_divorces.Marriages_per_1000, label='Marriages')\n",
    "plt.plot(marriages_divorces.Year, marriages_divorces.Divorces_per_1000, label='Divorces')\n",
    "plt.xlabel('Year')\n",
    "plt.ylabel('Number per capita')\n",
    "plt.title('Number of marriages and divorces per capita in the U.S. between 1867 and 2014')\n",
    "plt.legend()\n",
    "plt.show()"
   ]
  },
  {
   "cell_type": "markdown",
   "id": "e94400f7",
   "metadata": {},
   "source": [
    "# Question 7"
   ]
  },
  {
   "cell_type": "code",
   "execution_count": 11,
   "id": "bcda9657",
   "metadata": {},
   "outputs": [],
   "source": [
    "import pandas as pd\n",
    "import matplotlib.pyplot as plt\n",
    "\n",
    "# Read the data from the given source\n",
    "data = pd.read_csv('us-marriages-divorces-1867-2014.csv') "
   ]
  },
  {
   "cell_type": "code",
   "execution_count": 14,
   "id": "ea4b7696",
   "metadata": {},
   "outputs": [],
   "source": [
    "years = [1900, 1950, 2000]\n",
    "subset = data[data['Year'].isin(years)]"
   ]
  },
  {
   "cell_type": "code",
   "execution_count": 18,
   "id": "45a9cbfe",
   "metadata": {},
   "outputs": [],
   "source": [
    "subset = data[data['Year'].isin(years)].copy()\n",
    "subset.loc[:, 'Marriages_per_capita'] = subset['Marriages'] / subset['Population']\n",
    "subset.loc[:, 'Divorces_per_capita'] = subset['Divorces'] / subset['Population']"
   ]
  },
  {
   "cell_type": "code",
   "execution_count": 23,
   "id": "7cfabccf",
   "metadata": {},
   "outputs": [
    {
     "data": {
      "image/png": "[encoded data removed]",
      "text/plain": [
       "<Figure size 800x600 with 1 Axes>"
      ]
     },
     "metadata": {},
     "output_type": "display_data"
    }
   ],
   "source": [
    "ax = subset.plot(x='Year', y=['Marriages_per_capita', 'Divorces_per_capita'], kind='bar', figsize=(8,6), color=['blue','red'])\n",
    "ax.set_xlabel('Year')\n",
    "ax.set_ylabel('Number per capita')\n",
    "ax.set_title('Marriages and Divorces per capita in the U.S. between 1900, 1950, and 2000')\n",
    "ax.legend(['Marriages', 'Divorces'])\n",
    "plt.show()"
   ]
  },
  {
   "cell_type": "markdown",
   "id": "34f5ea76",
   "metadata": {},
   "source": [
    "# Question 8"
   ]
  },
  {
   "cell_type": "code",
   "execution_count": 24,
   "id": "c1289483",
   "metadata": {},
   "outputs": [],
   "source": [
    "import pandas as pd\n",
    "import matplotlib.pyplot as plt"
   ]
  },
  {
   "cell_type": "code",
   "execution_count": 25,
   "id": "0ebf1eb3",
   "metadata": {},
   "outputs": [],
   "source": [
    "data = pd.read_csv('actor_kill_counts.csv')"
   ]
  },
  {
   "cell_type": "code",
   "execution_count": 26,
   "id": "cb38564f",
   "metadata": {},
   "outputs": [],
   "source": [
    "data = data.sort_values('Count', ascending=False)"
   ]
  },
  {
   "cell_type": "code",
   "execution_count": 27,
   "id": "b1352259",
   "metadata": {},
   "outputs": [
    {
     "data": {
      "image/png": "[encoded data removed]",
      "text/plain": [
       "<Figure size 640x480 with 1 Axes>"
      ]
     },
     "metadata": {},
     "output_type": "display_data"
    }
   ],
   "source": [
    "plt.barh(data['Actor'], data['Count'], color='red')\n",
    "plt.xlabel('Kill Count')\n",
    "plt.ylabel('Actor')\n",
    "plt.title('Deadliest Actors in Hollywood')\n",
    "plt.show()"
   ]
  },
  {
   "cell_type": "markdown",
   "id": "12ad7c00",
   "metadata": {},
   "source": [
    "# Question 9"
   ]
  },
  {
   "cell_type": "code",
   "execution_count": 28,
   "id": "9abbb656",
   "metadata": {},
   "outputs": [],
   "source": [
    "import pandas as pd\n",
    "import matplotlib.pyplot as plt"
   ]
  },
  {
   "cell_type": "code",
   "execution_count": 29,
   "id": "7cf3229c",
   "metadata": {},
   "outputs": [],
   "source": [
    "data = pd.read_csv('roman-emperor-reigns.csv')"
   ]
  },
  {
   "cell_type": "code",
   "execution_count": 30,
   "id": "2e1f22b3",
   "metadata": {},
   "outputs": [],
   "source": [
    "num_assassinated = len(data[data['Cause_of_Death'] == 'Assassinated'])"
   ]
  },
  {
   "cell_type": "code",
   "execution_count": 31,
   "id": "3d648636",
   "metadata": {},
   "outputs": [],
   "source": [
    "num_not_assassinated = len(data) - num_assassinated\n"
   ]
  },
  {
   "cell_type": "code",
   "execution_count": 32,
   "id": "a220d259",
   "metadata": {},
   "outputs": [],
   "source": [
    "labels = ['Assassinated', 'Not Assassinated']"
   ]
  },
  {
   "cell_type": "code",
   "execution_count": 33,
   "id": "880d6990",
   "metadata": {},
   "outputs": [],
   "source": [
    "values = [num_assassinated, num_not_assassinated]"
   ]
  },
  {
   "cell_type": "code",
   "execution_count": 34,
   "id": "acb91f88",
   "metadata": {},
   "outputs": [
    {
     "data": {
      "image/png": "[encoded data removed]",
      "text/plain": [
       "<Figure size 640x480 with 1 Axes>"
      ]
     },
     "metadata": {},
     "output_type": "display_data"
    }
   ],
   "source": [
    "plt.pie(values, labels=labels, autopct='%1.1f%%')\n",
    "plt.axis('equal')\n",
    "plt.title('Fraction of Roman Emperors who were Assassinated')\n",
    "plt.show()"
   ]
  },
  {
   "cell_type": "markdown",
   "id": "e075f059",
   "metadata": {},
   "source": [
    "# Question 10"
   ]
  },
  {
   "cell_type": "code",
   "execution_count": 35,
   "id": "7ab05fcf",
   "metadata": {},
   "outputs": [],
   "source": [
    "import pandas as pd\n",
    "import matplotlib.pyplot as plt"
   ]
  },
  {
   "cell_type": "code",
   "execution_count": 36,
   "id": "0cdca845",
   "metadata": {},
   "outputs": [],
   "source": [
    "data = pd.read_csv('arcade-revenue-vs-cs-doctorates.csv')"
   ]
  },
  {
   "cell_type": "code",
   "execution_count": 38,
   "id": "eb2ae0e8",
   "metadata": {},
   "outputs": [],
   "source": [
    "by_year = data[['Year', 'Total Arcade Revenue (billions)', 'Computer Science Doctorates Awarded (US)']].groupby('Year')"
   ]
  },
  {
   "cell_type": "code",
   "execution_count": 41,
   "id": "e0a58eec",
   "metadata": {
    "scrolled": false
   },
   "outputs": [
    {
     "data": {
      "image/png": "[encoded data removed]",
      "text/plain": [
       "<Figure size 640x480 with 1 Axes>"
      ]
     },
     "metadata": {},
     "output_type": "display_data"
    }
   ],
   "source": [
    "fig, ax = plt.subplots()\n",
    "for year, group in by_year:\n",
    "    ax.scatter(group['Total Arcade Revenue (billions)'], group['Computer Science Doctorates Awarded (US)'], label=year)\n",
    "ax.set_xlabel('Total Arcade Revenue (billions)')\n",
    "ax.set_ylabel('Computer Science Doctorates Awarded (US)')\n",
    "ax.set_title('Arcade Revenue vs. Computer Science PhDs awarded in the U.S. between 2000 and 2009')\n",
    "ax.legend()\n",
    "plt.show()"
   ]
  },
  {
   "cell_type": "code",
   "execution_count": null,
   "id": "281026b5",
   "metadata": {},
   "outputs": [],
   "source": []
  },
  {
   "cell_type": "code",
   "execution_count": null,
   "id": "78c337ae",
   "metadata": {},
   "outputs": [],
   "source": []
  }
 ],
 "metadata": {
  "kernelspec": {
   "display_name": "Python 3 (ipykernel)",
   "language": "python",
   "name": "python3"
  },
  "language_info": {
   "codemirror_mode": {
    "name": "ipython",
    "version": 3
   },
   "file_extension": ".py",
   "mimetype": "text/x-python",
   "name": "python",
   "nbconvert_exporter": "python",
   "pygments_lexer": "ipython3",
   "version": "3.11.1"
  }
 },
 "nbformat": 4,
 "nbformat_minor": 5
}
